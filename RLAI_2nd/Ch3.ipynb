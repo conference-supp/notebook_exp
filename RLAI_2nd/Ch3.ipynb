{
 "cells": [
  {
   "cell_type": "code",
   "execution_count": 1,
   "metadata": {},
   "outputs": [
    {
     "data": {
      "text/html": [
       "<style>.container { width: 80% !important; }</style>"
      ],
      "text/plain": [
       "<IPython.core.display.HTML object>"
      ]
     },
     "metadata": {},
     "output_type": "display_data"
    }
   ],
   "source": [
    "from IPython.display import display, HTML\n",
    "\n",
    "# Set the notebook width to 80%\n",
    "display(HTML(\"<style>.container { width: 80% !important; }</style>\"))"
   ]
  },
  {
   "cell_type": "code",
   "execution_count": 2,
   "metadata": {},
   "outputs": [
    {
     "name": "stdout",
     "output_type": "stream",
     "text": [
      "Currently running servers:\n",
      "http://localhost:5100/ :: /home/kzy816\n"
     ]
    }
   ],
   "source": [
    "!jupyter notebook list"
   ]
  },
  {
   "cell_type": "code",
   "execution_count": 4,
   "metadata": {},
   "outputs": [
    {
     "name": "stdout",
     "output_type": "stream",
     "text": [
      "Current Jupyter server ['qnode2152'] URL: http://localhost:5100/\n",
      "1 ['Ch3-b3de0736-8aed-495f-8261-ffaab7f48377.ipynb']\n"
     ]
    }
   ],
   "source": [
    "# Needs to paste `http://localhost:3110`, no ending `/`\n",
    "port = 5100\n",
    "\n",
    "import IPython\n",
    "import json\n",
    "import requests\n",
    "\n",
    "hostname = !hostname\n",
    "\n",
    "# Get the current Jupyter server's info\n",
    "result = !jupyter notebook list\n",
    "for res in result:\n",
    "    if f'http://localhost:{port}/' in res:\n",
    "        result = res.split(' :: ')[0]\n",
    "        break\n",
    "\n",
    "# Print the server URL\n",
    "print(f'Current Jupyter server {hostname} URL: {result}')\n",
    "\n",
    "# Get the list of running notebooks\n",
    "response = requests.get(f'{result}api/sessions')\n",
    "\n",
    "# # Convert the JSON data to a string and print it\n",
    "# print(json.dumps(response.json(), indent=4))\n",
    "\n",
    "nbs = response.json()\n",
    "nb_names = [nb['name'] for nb in nbs]\n",
    "print(len(nb_names), nb_names)"
   ]
  },
  {
   "cell_type": "markdown",
   "metadata": {},
   "source": [
    "# Import dep"
   ]
  },
  {
   "cell_type": "code",
   "execution_count": 11,
   "metadata": {},
   "outputs": [
    {
     "name": "stderr",
     "output_type": "stream",
     "text": [
      "/tmp/ipykernel_127124/3459056358.py:2: DeprecationWarning: \n",
      "Pyarrow will become a required dependency of pandas in the next major release of pandas (pandas 3.0),\n",
      "(to allow more performant data types, such as the Arrow string type, and better interoperability with other libraries)\n",
      "but was not found to be installed on your system.\n",
      "If this would cause problems for you,\n",
      "please provide us feedback at https://github.com/pandas-dev/pandas/issues/54466\n",
      "        \n",
      "  import pandas as pd\n"
     ]
    }
   ],
   "source": [
    "import numpy as np\n",
    "import pandas as pd\n",
    "import matplotlib.pyplot as plt\n",
    "%matplotlib inline"
   ]
  },
  {
   "cell_type": "code",
   "execution_count": 43,
   "metadata": {},
   "outputs": [],
   "source": [
    "import plotly\n",
    "import plotly.express as px\n",
    "import plotly.graph_objs as go\n",
    "from plotly.subplots import make_subplots\n",
    "import plotly.io as pio\n",
    "\n",
    "pio.renderers.default = \"notebook\""
   ]
  },
  {
   "cell_type": "markdown",
   "metadata": {},
   "source": [
    "# Example 3.5\n",
    "- Solve a linear equation system for a certain simple policy."
   ]
  },
  {
   "cell_type": "markdown",
   "metadata": {},
   "source": [
    "## Solve the linear equation system"
   ]
  },
  {
   "cell_type": "code",
   "execution_count": 24,
   "metadata": {},
   "outputs": [
    {
     "name": "stdout",
     "output_type": "stream",
     "text": [
      "(x[0], x[1], x[2])\n",
      "2 x[0] + 3 x[1] - x[2] = 1\n",
      "3 x[0] - 2 x[1] + 2 x[2] = -2\n",
      "x[0] + x[1] + x[2] = 3\n",
      "{x[0]: -1, x[1]: 7/4, x[2]: 9/4}\n"
     ]
    }
   ],
   "source": [
    "from sympy import latex, symbols, Eq, solve, linear_eq_to_matrix\n",
    "\n",
    "# Define the variables\n",
    "x = symbols('x[0:3]')\n",
    "\n",
    "aa = 3\n",
    "\n",
    "def _idx(i):\n",
    "    return i\n",
    "\n",
    "print(x)\n",
    "\n",
    "# Define the equations\n",
    "equations = [\n",
    "    Eq(2*x[_idx(0)] + aa*x[1] - x[2], 1),\n",
    "    Eq(3*x[0] - 2*x[1] + 2*x[2], -2),\n",
    "    Eq(x[0] + x[1] + x[2], 3)\n",
    "]\n",
    "\n",
    "for equation in equations:\n",
    "    print(latex(equation))\n",
    "\n",
    "solution = solve(equations, x)\n",
    "\n",
    "print(solution)"
   ]
  },
  {
   "cell_type": "code",
   "execution_count": 25,
   "metadata": {},
   "outputs": [
    {
     "name": "stdout",
     "output_type": "stream",
     "text": [
      "0.55 v[0] - 0.225 v[1] - 0.225 v[5] + 0.5 = 0\n",
      "v[1] - 0.9 v[21] - 10 = 0\n",
      "- 0.225 v[1] + 0.775 v[2] - 0.225 v[3] - 0.225 v[7] + 0.25 = 0\n",
      "- 0.9 v[13] + v[3] - 5 = 0\n",
      "- 0.225 v[3] + 0.55 v[4] - 0.225 v[9] + 0.5 = 0\n",
      "- 0.225 v[0] - 0.225 v[10] + 0.775 v[5] - 0.225 v[6] + 0.25 = 0\n",
      "- 0.225 v[11] - 0.225 v[1] - 0.225 v[5] + v[6] - 0.225 v[7] = 0\n",
      "- 0.225 v[12] - 0.225 v[2] - 0.225 v[6] + v[7] - 0.225 v[8] = 0\n",
      "- 0.225 v[13] - 0.225 v[3] - 0.225 v[7] + v[8] - 0.225 v[9] = 0\n",
      "- 0.225 v[14] - 0.225 v[4] - 0.225 v[8] + 0.775 v[9] + 0.25 = 0\n",
      "0.775 v[10] - 0.225 v[11] - 0.225 v[15] - 0.225 v[5] + 0.25 = 0\n",
      "- 0.225 v[10] + v[11] - 0.225 v[12] - 0.225 v[16] - 0.225 v[6] = 0\n",
      "- 0.225 v[11] + v[12] - 0.225 v[13] - 0.225 v[17] - 0.225 v[7] = 0\n",
      "- 0.225 v[12] + v[13] - 0.225 v[14] - 0.225 v[18] - 0.225 v[8] = 0\n",
      "- 0.225 v[13] + 0.775 v[14] - 0.225 v[19] - 0.225 v[9] + 0.25 = 0\n",
      "- 0.225 v[10] + 0.775 v[15] - 0.225 v[16] - 0.225 v[20] + 0.25 = 0\n",
      "- 0.225 v[11] - 0.225 v[15] + v[16] - 0.225 v[17] - 0.225 v[21] = 0\n",
      "- 0.225 v[12] - 0.225 v[16] + v[17] - 0.225 v[18] - 0.225 v[22] = 0\n",
      "- 0.225 v[13] - 0.225 v[17] + v[18] - 0.225 v[19] - 0.225 v[23] = 0\n",
      "- 0.225 v[14] - 0.225 v[18] + 0.775 v[19] - 0.225 v[24] + 0.25 = 0\n",
      "- 0.225 v[15] + 0.55 v[20] - 0.225 v[21] + 0.5 = 0\n",
      "- 0.225 v[16] - 0.225 v[20] + 0.775 v[21] - 0.225 v[22] + 0.25 = 0\n",
      "- 0.225 v[17] - 0.225 v[21] + 0.775 v[22] - 0.225 v[23] + 0.25 = 0\n",
      "- 0.225 v[18] - 0.225 v[22] + 0.775 v[23] - 0.225 v[24] + 0.25 = 0\n",
      "- 0.225 v[19] - 0.225 v[23] + 0.55 v[24] + 0.5 = 0\n"
     ]
    },
    {
     "data": {
      "text/latex": [
       "$\\displaystyle \\left[\\begin{array}{ccccccccccccccccccccccccc}0.55 & -0.225 & 0 & 0 & 0 & -0.225 & 0 & 0 & 0 & 0 & 0 & 0 & 0 & 0 & 0 & 0 & 0 & 0 & 0 & 0 & 0 & 0 & 0 & 0 & 0\\\\0 & 1 & 0 & 0 & 0 & 0 & 0 & 0 & 0 & 0 & 0 & 0 & 0 & 0 & 0 & 0 & 0 & 0 & 0 & 0 & 0 & -0.9 & 0 & 0 & 0\\\\0 & -0.225 & 0.775 & -0.225 & 0 & 0 & 0 & -0.225 & 0 & 0 & 0 & 0 & 0 & 0 & 0 & 0 & 0 & 0 & 0 & 0 & 0 & 0 & 0 & 0 & 0\\\\0 & 0 & 0 & 1 & 0 & 0 & 0 & 0 & 0 & 0 & 0 & 0 & 0 & -0.9 & 0 & 0 & 0 & 0 & 0 & 0 & 0 & 0 & 0 & 0 & 0\\\\0 & 0 & 0 & -0.225 & 0.55 & 0 & 0 & 0 & 0 & -0.225 & 0 & 0 & 0 & 0 & 0 & 0 & 0 & 0 & 0 & 0 & 0 & 0 & 0 & 0 & 0\\\\-0.225 & 0 & 0 & 0 & 0 & 0.775 & -0.225 & 0 & 0 & 0 & -0.225 & 0 & 0 & 0 & 0 & 0 & 0 & 0 & 0 & 0 & 0 & 0 & 0 & 0 & 0\\\\0 & -0.225 & 0 & 0 & 0 & -0.225 & 1 & -0.225 & 0 & 0 & 0 & -0.225 & 0 & 0 & 0 & 0 & 0 & 0 & 0 & 0 & 0 & 0 & 0 & 0 & 0\\\\0 & 0 & -0.225 & 0 & 0 & 0 & -0.225 & 1 & -0.225 & 0 & 0 & 0 & -0.225 & 0 & 0 & 0 & 0 & 0 & 0 & 0 & 0 & 0 & 0 & 0 & 0\\\\0 & 0 & 0 & -0.225 & 0 & 0 & 0 & -0.225 & 1 & -0.225 & 0 & 0 & 0 & -0.225 & 0 & 0 & 0 & 0 & 0 & 0 & 0 & 0 & 0 & 0 & 0\\\\0 & 0 & 0 & 0 & -0.225 & 0 & 0 & 0 & -0.225 & 0.775 & 0 & 0 & 0 & 0 & -0.225 & 0 & 0 & 0 & 0 & 0 & 0 & 0 & 0 & 0 & 0\\\\0 & 0 & 0 & 0 & 0 & -0.225 & 0 & 0 & 0 & 0 & 0.775 & -0.225 & 0 & 0 & 0 & -0.225 & 0 & 0 & 0 & 0 & 0 & 0 & 0 & 0 & 0\\\\0 & 0 & 0 & 0 & 0 & 0 & -0.225 & 0 & 0 & 0 & -0.225 & 1 & -0.225 & 0 & 0 & 0 & -0.225 & 0 & 0 & 0 & 0 & 0 & 0 & 0 & 0\\\\0 & 0 & 0 & 0 & 0 & 0 & 0 & -0.225 & 0 & 0 & 0 & -0.225 & 1 & -0.225 & 0 & 0 & 0 & -0.225 & 0 & 0 & 0 & 0 & 0 & 0 & 0\\\\0 & 0 & 0 & 0 & 0 & 0 & 0 & 0 & -0.225 & 0 & 0 & 0 & -0.225 & 1 & -0.225 & 0 & 0 & 0 & -0.225 & 0 & 0 & 0 & 0 & 0 & 0\\\\0 & 0 & 0 & 0 & 0 & 0 & 0 & 0 & 0 & -0.225 & 0 & 0 & 0 & -0.225 & 0.775 & 0 & 0 & 0 & 0 & -0.225 & 0 & 0 & 0 & 0 & 0\\\\0 & 0 & 0 & 0 & 0 & 0 & 0 & 0 & 0 & 0 & -0.225 & 0 & 0 & 0 & 0 & 0.775 & -0.225 & 0 & 0 & 0 & -0.225 & 0 & 0 & 0 & 0\\\\0 & 0 & 0 & 0 & 0 & 0 & 0 & 0 & 0 & 0 & 0 & -0.225 & 0 & 0 & 0 & -0.225 & 1 & -0.225 & 0 & 0 & 0 & -0.225 & 0 & 0 & 0\\\\0 & 0 & 0 & 0 & 0 & 0 & 0 & 0 & 0 & 0 & 0 & 0 & -0.225 & 0 & 0 & 0 & -0.225 & 1 & -0.225 & 0 & 0 & 0 & -0.225 & 0 & 0\\\\0 & 0 & 0 & 0 & 0 & 0 & 0 & 0 & 0 & 0 & 0 & 0 & 0 & -0.225 & 0 & 0 & 0 & -0.225 & 1 & -0.225 & 0 & 0 & 0 & -0.225 & 0\\\\0 & 0 & 0 & 0 & 0 & 0 & 0 & 0 & 0 & 0 & 0 & 0 & 0 & 0 & -0.225 & 0 & 0 & 0 & -0.225 & 0.775 & 0 & 0 & 0 & 0 & -0.225\\\\0 & 0 & 0 & 0 & 0 & 0 & 0 & 0 & 0 & 0 & 0 & 0 & 0 & 0 & 0 & -0.225 & 0 & 0 & 0 & 0 & 0.55 & -0.225 & 0 & 0 & 0\\\\0 & 0 & 0 & 0 & 0 & 0 & 0 & 0 & 0 & 0 & 0 & 0 & 0 & 0 & 0 & 0 & -0.225 & 0 & 0 & 0 & -0.225 & 0.775 & -0.225 & 0 & 0\\\\0 & 0 & 0 & 0 & 0 & 0 & 0 & 0 & 0 & 0 & 0 & 0 & 0 & 0 & 0 & 0 & 0 & -0.225 & 0 & 0 & 0 & -0.225 & 0.775 & -0.225 & 0\\\\0 & 0 & 0 & 0 & 0 & 0 & 0 & 0 & 0 & 0 & 0 & 0 & 0 & 0 & 0 & 0 & 0 & 0 & -0.225 & 0 & 0 & 0 & -0.225 & 0.775 & -0.225\\\\0 & 0 & 0 & 0 & 0 & 0 & 0 & 0 & 0 & 0 & 0 & 0 & 0 & 0 & 0 & 0 & 0 & 0 & 0 & -0.225 & 0 & 0 & 0 & -0.225 & 0.55\\end{array}\\right]$"
      ],
      "text/plain": [
       "Matrix([\n",
       "[  0.55, -0.225,      0,      0,      0, -0.225,      0,      0,      0,      0,      0,      0,      0,      0,      0,      0,      0,      0,      0,      0,      0,      0,      0,      0,      0],\n",
       "[     0,      1,      0,      0,      0,      0,      0,      0,      0,      0,      0,      0,      0,      0,      0,      0,      0,      0,      0,      0,      0,   -0.9,      0,      0,      0],\n",
       "[     0, -0.225,  0.775, -0.225,      0,      0,      0, -0.225,      0,      0,      0,      0,      0,      0,      0,      0,      0,      0,      0,      0,      0,      0,      0,      0,      0],\n",
       "[     0,      0,      0,      1,      0,      0,      0,      0,      0,      0,      0,      0,      0,   -0.9,      0,      0,      0,      0,      0,      0,      0,      0,      0,      0,      0],\n",
       "[     0,      0,      0, -0.225,   0.55,      0,      0,      0,      0, -0.225,      0,      0,      0,      0,      0,      0,      0,      0,      0,      0,      0,      0,      0,      0,      0],\n",
       "[-0.225,      0,      0,      0,      0,  0.775, -0.225,      0,      0,      0, -0.225,      0,      0,      0,      0,      0,      0,      0,      0,      0,      0,      0,      0,      0,      0],\n",
       "[     0, -0.225,      0,      0,      0, -0.225,      1, -0.225,      0,      0,      0, -0.225,      0,      0,      0,      0,      0,      0,      0,      0,      0,      0,      0,      0,      0],\n",
       "[     0,      0, -0.225,      0,      0,      0, -0.225,      1, -0.225,      0,      0,      0, -0.225,      0,      0,      0,      0,      0,      0,      0,      0,      0,      0,      0,      0],\n",
       "[     0,      0,      0, -0.225,      0,      0,      0, -0.225,      1, -0.225,      0,      0,      0, -0.225,      0,      0,      0,      0,      0,      0,      0,      0,      0,      0,      0],\n",
       "[     0,      0,      0,      0, -0.225,      0,      0,      0, -0.225,  0.775,      0,      0,      0,      0, -0.225,      0,      0,      0,      0,      0,      0,      0,      0,      0,      0],\n",
       "[     0,      0,      0,      0,      0, -0.225,      0,      0,      0,      0,  0.775, -0.225,      0,      0,      0, -0.225,      0,      0,      0,      0,      0,      0,      0,      0,      0],\n",
       "[     0,      0,      0,      0,      0,      0, -0.225,      0,      0,      0, -0.225,      1, -0.225,      0,      0,      0, -0.225,      0,      0,      0,      0,      0,      0,      0,      0],\n",
       "[     0,      0,      0,      0,      0,      0,      0, -0.225,      0,      0,      0, -0.225,      1, -0.225,      0,      0,      0, -0.225,      0,      0,      0,      0,      0,      0,      0],\n",
       "[     0,      0,      0,      0,      0,      0,      0,      0, -0.225,      0,      0,      0, -0.225,      1, -0.225,      0,      0,      0, -0.225,      0,      0,      0,      0,      0,      0],\n",
       "[     0,      0,      0,      0,      0,      0,      0,      0,      0, -0.225,      0,      0,      0, -0.225,  0.775,      0,      0,      0,      0, -0.225,      0,      0,      0,      0,      0],\n",
       "[     0,      0,      0,      0,      0,      0,      0,      0,      0,      0, -0.225,      0,      0,      0,      0,  0.775, -0.225,      0,      0,      0, -0.225,      0,      0,      0,      0],\n",
       "[     0,      0,      0,      0,      0,      0,      0,      0,      0,      0,      0, -0.225,      0,      0,      0, -0.225,      1, -0.225,      0,      0,      0, -0.225,      0,      0,      0],\n",
       "[     0,      0,      0,      0,      0,      0,      0,      0,      0,      0,      0,      0, -0.225,      0,      0,      0, -0.225,      1, -0.225,      0,      0,      0, -0.225,      0,      0],\n",
       "[     0,      0,      0,      0,      0,      0,      0,      0,      0,      0,      0,      0,      0, -0.225,      0,      0,      0, -0.225,      1, -0.225,      0,      0,      0, -0.225,      0],\n",
       "[     0,      0,      0,      0,      0,      0,      0,      0,      0,      0,      0,      0,      0,      0, -0.225,      0,      0,      0, -0.225,  0.775,      0,      0,      0,      0, -0.225],\n",
       "[     0,      0,      0,      0,      0,      0,      0,      0,      0,      0,      0,      0,      0,      0,      0, -0.225,      0,      0,      0,      0,   0.55, -0.225,      0,      0,      0],\n",
       "[     0,      0,      0,      0,      0,      0,      0,      0,      0,      0,      0,      0,      0,      0,      0,      0, -0.225,      0,      0,      0, -0.225,  0.775, -0.225,      0,      0],\n",
       "[     0,      0,      0,      0,      0,      0,      0,      0,      0,      0,      0,      0,      0,      0,      0,      0,      0, -0.225,      0,      0,      0, -0.225,  0.775, -0.225,      0],\n",
       "[     0,      0,      0,      0,      0,      0,      0,      0,      0,      0,      0,      0,      0,      0,      0,      0,      0,      0, -0.225,      0,      0,      0, -0.225,  0.775, -0.225],\n",
       "[     0,      0,      0,      0,      0,      0,      0,      0,      0,      0,      0,      0,      0,      0,      0,      0,      0,      0,      0, -0.225,      0,      0,      0, -0.225,   0.55]])"
      ]
     },
     "metadata": {},
     "output_type": "display_data"
    },
    {
     "data": {
      "text/latex": [
       "$\\displaystyle \\left[\\begin{matrix}-0.5\\\\10\\\\-0.25\\\\5\\\\-0.5\\\\-0.25\\\\0\\\\0\\\\0\\\\-0.25\\\\-0.25\\\\0\\\\0\\\\0\\\\-0.25\\\\-0.25\\\\0\\\\0\\\\0\\\\-0.25\\\\-0.5\\\\-0.25\\\\-0.25\\\\-0.25\\\\-0.5\\end{matrix}\\right]$"
      ],
      "text/plain": [
       "Matrix([\n",
       "[ -0.5],\n",
       "[   10],\n",
       "[-0.25],\n",
       "[    5],\n",
       "[ -0.5],\n",
       "[-0.25],\n",
       "[    0],\n",
       "[    0],\n",
       "[    0],\n",
       "[-0.25],\n",
       "[-0.25],\n",
       "[    0],\n",
       "[    0],\n",
       "[    0],\n",
       "[-0.25],\n",
       "[-0.25],\n",
       "[    0],\n",
       "[    0],\n",
       "[    0],\n",
       "[-0.25],\n",
       "[ -0.5],\n",
       "[-0.25],\n",
       "[-0.25],\n",
       "[-0.25],\n",
       "[ -0.5]])"
      ]
     },
     "metadata": {},
     "output_type": "display_data"
    }
   ],
   "source": [
    "ga = 0.9\n",
    "\n",
    "v = symbols('v[0:25]')\n",
    "\n",
    "def ij(i, j):\n",
    "    return i*5 + j\n",
    "\n",
    "def cor_eq(i, j, r, c):\n",
    "    # corner equation\n",
    "    return Eq(v[ij(i, j)]-1/4*((-1+ga*v[ij(i, j)])*2+ga*(v[ij(i+r, j)]+v[ij(i, j+c)])), 0)\n",
    "\n",
    "def bd_eq(i, j, r, c):\n",
    "    # boundary equation\n",
    "    if r!=0:\n",
    "        return Eq(v[ij(i, j)]-1/4*((-1+ga*v[ij(i, j)])+ga*(v[ij(i+r, j)]+v[ij(i, j-1)]+v[ij(i, j+1)])), 0)\n",
    "    else: # c!=0\n",
    "        return Eq(v[ij(i, j)]-1/4*((-1+ga*v[ij(i, j)])+ga*(v[ij(i, j+c)]+v[ij(i-1, j)]+v[ij(i+1, j)])), 0)\n",
    "    \n",
    "def in_eq(i,j):\n",
    "    # inner equation\n",
    "    return Eq(v[ij(i, j)]-1/4*ga*(v[ij(i-1, j)]+v[ij(i+1, j)]+v[ij(i, j-1)]+v[ij(i, j+1)]), 0)\n",
    "\n",
    "equations = [\n",
    "    # row 0\n",
    "    cor_eq(0, 0, 1, 1),\n",
    "    Eq(v[ij(0, 1)]-(10+ga*v[ij(4, 1)]), 0), # special state A\n",
    "    bd_eq(0, 2, 1, 0),\n",
    "    Eq(v[ij(0, 3)]-(5+ga*v[ij(2, 3)]), 0), # special state B\n",
    "    cor_eq(0, 4, 1, -1),\n",
    "    # row 1\n",
    "    bd_eq(1, 0, 0, 1), in_eq(1, 1), in_eq(1, 2), in_eq(1, 3), bd_eq(1, 4, 0, -1),\n",
    "    # row 2\n",
    "    bd_eq(2, 0, 0, 1), in_eq(2, 1), in_eq(2, 2), in_eq(2, 3), bd_eq(2, 4, 0, -1),\n",
    "    # row 3\n",
    "    bd_eq(3, 0, 0, 1), in_eq(3, 1), in_eq(3, 2), in_eq(3, 3), bd_eq(3, 4, 0, -1),\n",
    "    # row 4\n",
    "    cor_eq(4, 0, -1, 1), bd_eq(4, 1, -1, 0), bd_eq(4, 2, -1, 0), bd_eq(4, 3, -1, 0), cor_eq(4, 4, -1, -1)\n",
    "]\n",
    "\n",
    "for eq in equations:\n",
    "    print(latex(eq))\n",
    "    \n",
    "A, b = linear_eq_to_matrix(equations, v)\n",
    "\n",
    "display(A, b)\n",
    "    \n",
    "# # Try to solve the equations symbolically just breaks the jupyter kernel\n",
    "# sol = solve(equations, v)\n",
    "\n",
    "# v_array = np.zeros((5, 5))\n",
    "# for i in range(5):\n",
    "#     for j in range(5):\n",
    "#         v_array[i, j] = sol[v[ij(i, j)]]\n",
    "\n",
    "# print(v_array)\n",
    "\n",
    "# for i in range(5):\n",
    "#     for j in range(5):\n",
    "#         print(f'v[{i},{j}] = {sol[v[ij(i, j)]]}')"
   ]
  },
  {
   "cell_type": "code",
   "execution_count": 26,
   "metadata": {},
   "outputs": [
    {
     "name": "stdout",
     "output_type": "stream",
     "text": [
      "[[   3.309    8.789    4.428    5.322    1.492]\n",
      " [   1.522    2.992    2.250    1.908    0.547]\n",
      " [   0.051    0.738    0.673    0.358   -0.403]\n",
      " [  -0.974   -0.435   -0.355   -0.586   -1.183]\n",
      " [  -1.858   -1.345   -1.229   -1.423   -1.975]]\n"
     ]
    }
   ],
   "source": [
    "# I checked with the solution in the book, the solution is correct\n",
    "arr_A = np.array(A, dtype='float')\n",
    "arr_b = np.array(b, dtype='float')\n",
    "\n",
    "sol = np.linalg.solve(arr_A, arr_b)\n",
    "\n",
    "print(np.array2string(sol.reshape(5, 5, order='C'), formatter={'float_kind':lambda x: \"%8.3f\" % x}))"
   ]
  },
  {
   "cell_type": "markdown",
   "metadata": {},
   "source": [
    "## Iterative evaluation\n",
    "- This is a content for Ch 4.1"
   ]
  },
  {
   "cell_type": "code",
   "execution_count": 45,
   "metadata": {},
   "outputs": [],
   "source": [
    "from itertools import product\n",
    "\n",
    "def eval_schema1(v0: np.ndarray, ga: float, max_iter: int, memo_step: int = 1):\n",
    "    \"\"\"\n",
    "    Each time step, update all the value function, and then go to the next step. \n",
    "    When updating the value function at n+1, only the value function at step n is used.\n",
    "    \"\"\"\n",
    "    nr, nc = v0.shape\n",
    "    vn = v0.copy()\n",
    "    memo_v = {}\n",
    "    for si in range(max_iter):\n",
    "        vnn = vn.copy()\n",
    "        for i, j in product(range(nr), range(nc)):\n",
    "            if i==0 and j==1:\n",
    "                vnn[i, j] = 10 + ga*vn[4, 1]\n",
    "            elif i==0 and j==3:\n",
    "                vnn[i, j] = 5 + ga*vn[2, 3]\n",
    "            else:\n",
    "                # Corners\n",
    "                if i==0 and j==0:\n",
    "                    vnn[i, j] = sum([-1+ga*vn[i, j], ga*vn[i, j+1], -1+ga*vn[i, j], ga*vn[i+1, j]])/4\n",
    "                elif i==0 and j==4:\n",
    "                    vnn[i, j] = sum([ga*vn[i, j-1], -1+ga*vn[i, j], -1+ga*vn[i, j], ga*vn[i+1, j]])/4\n",
    "                elif i==4 and j==0:\n",
    "                    vnn[i, j] = sum([-1+ga*vn[i, j], ga*vn[i, j+1], ga*vn[i-1, j], -1+ga*vn[i, j]])/4\n",
    "                elif i==4 and j==4:\n",
    "                    vnn[i, j] = sum([ga*vn[i, j-1], -1+ga*vn[i, j], ga*vn[i-1, j], -1+ga*vn[i, j]])/4\n",
    "                # Boundaries\n",
    "                elif i==0:\n",
    "                    vnn[i, j] = sum([ga*vn[i, j-1], ga*vn[i, j+1], -1+ga*vn[i, j], ga*vn[i+1, j]])/4\n",
    "                elif i==4:\n",
    "                    vnn[i, j] = sum([ga*vn[i, j-1], ga*vn[i, j+1], ga*vn[i-1, j], -1+ga*vn[i, j]])/4\n",
    "                elif j==0:\n",
    "                    vnn[i, j] = sum([-1+ga*vn[i, j], ga*vn[i, j+1], ga*vn[i-1, j], ga*vn[i+1, j]])/4\n",
    "                elif j==4:\n",
    "                    vnn[i, j] = sum([ga*vn[i, j-1], -1+ga*vn[i, j], ga*vn[i-1, j], ga*vn[i+1, j]])/4\n",
    "                # Inner\n",
    "                else:\n",
    "                    vnn[i, j] = sum([ga*vn[i, j-1], ga*vn[i, j+1], ga*vn[i-1, j], ga*vn[i+1, j]])/4\n",
    "\n",
    "        if si%memo_step==0:\n",
    "            memo_v[si] = vn\n",
    "        \n",
    "        vn = vnn\n",
    "    \n",
    "    memo_v[max_iter] = vn\n",
    "    \n",
    "    return memo_v\n",
    "\n",
    "\n",
    "def eval_schema2(v0: np.ndarray, ga: float, max_iter: int, memo_step: int = 1):\n",
    "    \"\"\"\n",
    "    When updating the value function at n+1, newly calcualted n+1 values are also used.\n",
    "    RLAI book call this \"in-place\" algorithm.\n",
    "    \"\"\"\n",
    "    nr, nc = v0.shape\n",
    "    vn = v0.copy()\n",
    "    memo_v = {}\n",
    "    for si in range(max_iter):\n",
    "        vnn = vn.copy()\n",
    "        # Using the vnn values below to use the newly obtained v_{n+1} values.\n",
    "        for i, j in product(range(nr), range(nc)):\n",
    "            if i==0 and j==1:\n",
    "                vnn[i, j] = 10 + ga*vnn[4, 1]\n",
    "            elif i==0 and j==3:\n",
    "                vnn[i, j] = 5 + ga*vnn[2, 3]\n",
    "            else:\n",
    "                # Corners\n",
    "                if i==0 and j==0:\n",
    "                    vnn[i, j] = sum([-1+ga*vnn[i, j], ga*vnn[i, j+1], -1+ga*vnn[i, j], ga*vnn[i+1, j]])/4\n",
    "                elif i==0 and j==4:\n",
    "                    vnn[i, j] = sum([ga*vnn[i, j-1], -1+ga*vnn[i, j], -1+ga*vnn[i, j], ga*vnn[i+1, j]])/4\n",
    "                elif i==4 and j==0:\n",
    "                    vnn[i, j] = sum([-1+ga*vnn[i, j], ga*vnn[i, j+1], ga*vnn[i-1, j], -1+ga*vnn[i, j]])/4\n",
    "                elif i==4 and j==4:\n",
    "                    vnn[i, j] = sum([ga*vnn[i, j-1], -1+ga*vnn[i, j], ga*vnn[i-1, j], -1+ga*vnn[i, j]])/4\n",
    "                # Boundaries\n",
    "                elif i==0:\n",
    "                    vnn[i, j] = sum([ga*vnn[i, j-1], ga*vnn[i, j+1], -1+ga*vnn[i, j], ga*vnn[i+1, j]])/4\n",
    "                elif i==4:\n",
    "                    vnn[i, j] = sum([ga*vnn[i, j-1], ga*vnn[i, j+1], ga*vnn[i-1, j], -1+ga*vnn[i, j]])/4\n",
    "                elif j==0:\n",
    "                    vnn[i, j] = sum([-1+ga*vnn[i, j], ga*vnn[i, j+1], ga*vnn[i-1, j], ga*vnn[i+1, j]])/4\n",
    "                elif j==4:\n",
    "                    vnn[i, j] = sum([ga*vnn[i, j-1], -1+ga*vnn[i, j], ga*vnn[i-1, j], ga*vnn[i+1, j]])/4\n",
    "                # Inner\n",
    "                else:\n",
    "                    vnn[i, j] = sum([ga*vnn[i, j-1], ga*vnn[i, j+1], ga*vnn[i-1, j], ga*vnn[i+1, j]])/4\n",
    "            \n",
    "        if si%memo_step==0:\n",
    "            memo_v[si] = vn\n",
    "\n",
    "        vn = vnn\n",
    "    \n",
    "    memo_v[max_iter] = vn\n",
    "    \n",
    "    return memo_v\n",
    "\n",
    "def pr_val_func(val: np.ndarray, fmt='%8.3f', reshape=False, nr=None, nc=None):\n",
    "    if reshape:\n",
    "        print(np.array2string(val.reshape(nr, nc, order='C'), formatter={'float_kind':lambda x: fmt % x}))\n",
    "    else:\n",
    "        print(np.array2string(val, formatter={'float_kind':lambda x: fmt % x}))\n",
    "        "
   ]
  },
  {
   "cell_type": "code",
   "execution_count": 46,
   "metadata": {},
   "outputs": [],
   "source": [
    "v0 = np.zeros((5, 5))\n",
    "ga, alp = 0.9, 0.5\n",
    "max_iter = 1000\n",
    "memo_step = 10\n",
    "memo1_v = eval_schema1(v0, ga, max_iter, memo_step)\n",
    "memo2_v = eval_schema2(v0, ga, max_iter, memo_step)"
   ]
  },
  {
   "cell_type": "code",
   "execution_count": 47,
   "metadata": {},
   "outputs": [
    {
     "name": "stdout",
     "output_type": "stream",
     "text": [
      "[[   3.309    8.789    4.428    5.322    1.492]\n",
      " [   1.522    2.992    2.250    1.908    0.547]\n",
      " [   0.051    0.738    0.673    0.358   -0.403]\n",
      " [  -0.974   -0.435   -0.355   -0.586   -1.183]\n",
      " [  -1.858   -1.345   -1.229   -1.423   -1.975]]\n",
      "[[   3.309    8.789    4.428    5.322    1.492]\n",
      " [   1.522    2.992    2.250    1.908    0.547]\n",
      " [   0.051    0.738    0.673    0.358   -0.403]\n",
      " [  -0.974   -0.435   -0.355   -0.586   -1.183]\n",
      " [  -1.858   -1.345   -1.229   -1.423   -1.975]]\n",
      "[[   3.309    8.789    4.428    5.322    1.492]\n",
      " [   1.522    2.992    2.250    1.908    0.547]\n",
      " [   0.051    0.738    0.673    0.358   -0.403]\n",
      " [  -0.974   -0.435   -0.355   -0.586   -1.183]\n",
      " [  -1.858   -1.345   -1.229   -1.423   -1.975]]\n"
     ]
    },
    {
     "data": {
      "text/plain": [
       "True"
      ]
     },
     "metadata": {},
     "output_type": "display_data"
    },
    {
     "data": {
      "text/plain": [
       "True"
      ]
     },
     "metadata": {},
     "output_type": "display_data"
    }
   ],
   "source": [
    "pr_val_func(sol, reshape=True, nr=5, nc=5)\n",
    "pr_val_func(memo1_v[max_iter])\n",
    "pr_val_func(memo2_v[max_iter])\n",
    "display(\n",
    "    np.allclose(sol, memo1_v[max_iter].reshape((-1, 1), order='C')),\n",
    "    np.allclose(sol, memo2_v[max_iter].reshape((-1, 1), order='C')),\n",
    ")"
   ]
  },
  {
   "cell_type": "code",
   "execution_count": 53,
   "metadata": {},
   "outputs": [],
   "source": [
    "arr_si = []\n",
    "v_0_0_schema1 = []\n",
    "v_0_0_schema2 = []\n",
    "\n",
    "memo1_v = eval_schema1(v0, ga, max_iter, memo_step)\n",
    "memo2_v = eval_schema2(v0, ga, max_iter, memo_step)\n",
    "if len(arr_si)==0:\n",
    "    arr_si = np.array(sorted(list(memo1_v.keys())))\n",
    "v_0_0_schema1.append([memo1_v[si][0, 0] for si in arr_si])\n",
    "v_0_0_schema2.append([memo2_v[si][0, 0] for si in arr_si])\n",
    "\n",
    "arr_si += 1"
   ]
  },
  {
   "cell_type": "code",
   "execution_count": 54,
   "metadata": {},
   "outputs": [
    {
     "data": {
      "text/html": [
       "<div>                            <div id=\"5c39cd94-edbe-4849-a095-95d4197328a8\" class=\"plotly-graph-div\" style=\"height:525px; width:100%;\"></div>            <script type=\"text/javascript\">                require([\"plotly\"], function(Plotly) {                    window.PLOTLYENV=window.PLOTLYENV || {};                                    if (document.getElementById(\"5c39cd94-edbe-4849-a095-95d4197328a8\")) {                    Plotly.newPlot(                        \"5c39cd94-edbe-4849-a095-95d4197328a8\",                        [{\"line\":{\"color\":\"#636EFA\",\"dash\":\"dash\"},\"mode\":\"lines\",\"name\":\"opt_schema1\",\"x\":[1,11,21,31,41,51,61,71,81,91,101,111,121,131,141,151,161,171,181,191,201,211,221,231,241,251,261,271,281,291,301,311,321,331,341,351,361,371,381,391,401,411,421,431,441,451,461,471,481,491,501,511,521,531,541,551,561,571,581,591,601,611,621,631,641,651,661,671,681,691,701,711,721,731,741,751,761,771,781,791,801,811,821,831,841,851,861,871,881,891,901,911,921,931,941,951,961,971,981,991,1001],\"y\":[0.0,3.338324388963834,3.325263376308314,3.314143846366888,3.3107077634897415,3.3095816024667997,3.3091988807203427,3.3090667582363262,3.309020864204522,3.3090048847792444,3.308999316087089,3.3089973747952834,3.30899669795985,3.308996461968621,3.3089963796844426,3.3089963509938385,3.3089963409900585,3.308996337501958,3.3089963362857326,3.308996335861661,3.3089963357137964,3.3089963356622394,3.3089963356442627,3.3089963356379943,3.3089963356358085,3.3089963356350465,3.3089963356347813,3.308996335634688,3.308996335634656,3.308996335634645,3.308996335634641,3.3089963356346397,3.3089963356346397,3.3089963356346397,3.3089963356346397,3.3089963356346397,3.3089963356346397,3.3089963356346397,3.3089963356346397,3.3089963356346397,3.3089963356346397,3.3089963356346397,3.3089963356346397,3.3089963356346397,3.3089963356346397,3.3089963356346397,3.3089963356346397,3.3089963356346397,3.3089963356346397,3.3089963356346397,3.3089963356346397,3.3089963356346397,3.3089963356346397,3.3089963356346397,3.3089963356346397,3.3089963356346397,3.3089963356346397,3.3089963356346397,3.3089963356346397,3.3089963356346397,3.3089963356346397,3.3089963356346397,3.3089963356346397,3.3089963356346397,3.3089963356346397,3.3089963356346397,3.3089963356346397,3.3089963356346397,3.3089963356346397,3.3089963356346397,3.3089963356346397,3.3089963356346397,3.3089963356346397,3.3089963356346397,3.3089963356346397,3.3089963356346397,3.3089963356346397,3.3089963356346397,3.3089963356346397,3.3089963356346397,3.3089963356346397,3.3089963356346397,3.3089963356346397,3.3089963356346397,3.3089963356346397,3.3089963356346397,3.3089963356346397,3.3089963356346397,3.3089963356346397,3.3089963356346397,3.3089963356346397,3.3089963356346397,3.3089963356346397,3.3089963356346397,3.3089963356346397,3.3089963356346397,3.3089963356346397,3.3089963356346397,3.3089963356346397,3.3089963356346397,3.3089963356346397],\"type\":\"scatter\"},{\"line\":{\"color\":\"#636EFA\"},\"mode\":\"lines\",\"name\":\"opt_schema2\",\"x\":[1,11,21,31,41,51,61,71,81,91,101,111,121,131,141,151,161,171,181,191,201,211,221,231,241,251,261,271,281,291,301,311,321,331,341,351,361,371,381,391,401,411,421,431,441,451,461,471,481,491,501,511,521,531,541,551,561,571,581,591,601,611,621,631,641,651,661,671,681,691,701,711,721,731,741,751,761,771,781,791,801,811,821,831,841,851,861,871,881,891,901,911,921,931,941,951,961,971,981,991,1001],\"y\":[0.0,3.4243565361109294,3.3362305878103835,3.3135955943016153,3.3097511181509836,3.3091195169830816,3.309016411694346,3.3089996064793956,3.308996868480614,3.308996422437304,3.308996349775039,3.3089963379381464,3.3089963360098857,3.3089963356957677,3.308996335644597,3.308996335636261,3.3089963356349035,3.3089963356346814,3.308996335634646,3.3089963356346397,3.3089963356346397,3.3089963356346397,3.3089963356346397,3.3089963356346397,3.3089963356346397,3.3089963356346397,3.3089963356346397,3.3089963356346397,3.3089963356346397,3.3089963356346397,3.3089963356346397,3.3089963356346397,3.3089963356346397,3.3089963356346397,3.3089963356346397,3.3089963356346397,3.3089963356346397,3.3089963356346397,3.3089963356346397,3.3089963356346397,3.3089963356346397,3.3089963356346397,3.3089963356346397,3.3089963356346397,3.3089963356346397,3.3089963356346397,3.3089963356346397,3.3089963356346397,3.3089963356346397,3.3089963356346397,3.3089963356346397,3.3089963356346397,3.3089963356346397,3.3089963356346397,3.3089963356346397,3.3089963356346397,3.3089963356346397,3.3089963356346397,3.3089963356346397,3.3089963356346397,3.3089963356346397,3.3089963356346397,3.3089963356346397,3.3089963356346397,3.3089963356346397,3.3089963356346397,3.3089963356346397,3.3089963356346397,3.3089963356346397,3.3089963356346397,3.3089963356346397,3.3089963356346397,3.3089963356346397,3.3089963356346397,3.3089963356346397,3.3089963356346397,3.3089963356346397,3.3089963356346397,3.3089963356346397,3.3089963356346397,3.3089963356346397,3.3089963356346397,3.3089963356346397,3.3089963356346397,3.3089963356346397,3.3089963356346397,3.3089963356346397,3.3089963356346397,3.3089963356346397,3.3089963356346397,3.3089963356346397,3.3089963356346397,3.3089963356346397,3.3089963356346397,3.3089963356346397,3.3089963356346397,3.3089963356346397,3.3089963356346397,3.3089963356346397,3.3089963356346397,3.3089963356346397],\"type\":\"scatter\"}],                        {\"title\":{\"text\":\"Value Function (0, 0) vs Iteration\"},\"xaxis\":{\"title\":{\"text\":\"Iteration\"},\"type\":\"log\"},\"yaxis\":{\"title\":{\"text\":\"Value Function (0, 0)\"}},\"template\":{\"data\":{\"histogram2dcontour\":[{\"type\":\"histogram2dcontour\",\"colorbar\":{\"outlinewidth\":0,\"ticks\":\"\"},\"colorscale\":[[0.0,\"#0d0887\"],[0.1111111111111111,\"#46039f\"],[0.2222222222222222,\"#7201a8\"],[0.3333333333333333,\"#9c179e\"],[0.4444444444444444,\"#bd3786\"],[0.5555555555555556,\"#d8576b\"],[0.6666666666666666,\"#ed7953\"],[0.7777777777777778,\"#fb9f3a\"],[0.8888888888888888,\"#fdca26\"],[1.0,\"#f0f921\"]]}],\"choropleth\":[{\"type\":\"choropleth\",\"colorbar\":{\"outlinewidth\":0,\"ticks\":\"\"}}],\"histogram2d\":[{\"type\":\"histogram2d\",\"colorbar\":{\"outlinewidth\":0,\"ticks\":\"\"},\"colorscale\":[[0.0,\"#0d0887\"],[0.1111111111111111,\"#46039f\"],[0.2222222222222222,\"#7201a8\"],[0.3333333333333333,\"#9c179e\"],[0.4444444444444444,\"#bd3786\"],[0.5555555555555556,\"#d8576b\"],[0.6666666666666666,\"#ed7953\"],[0.7777777777777778,\"#fb9f3a\"],[0.8888888888888888,\"#fdca26\"],[1.0,\"#f0f921\"]]}],\"heatmap\":[{\"type\":\"heatmap\",\"colorbar\":{\"outlinewidth\":0,\"ticks\":\"\"},\"colorscale\":[[0.0,\"#0d0887\"],[0.1111111111111111,\"#46039f\"],[0.2222222222222222,\"#7201a8\"],[0.3333333333333333,\"#9c179e\"],[0.4444444444444444,\"#bd3786\"],[0.5555555555555556,\"#d8576b\"],[0.6666666666666666,\"#ed7953\"],[0.7777777777777778,\"#fb9f3a\"],[0.8888888888888888,\"#fdca26\"],[1.0,\"#f0f921\"]]}],\"heatmapgl\":[{\"type\":\"heatmapgl\",\"colorbar\":{\"outlinewidth\":0,\"ticks\":\"\"},\"colorscale\":[[0.0,\"#0d0887\"],[0.1111111111111111,\"#46039f\"],[0.2222222222222222,\"#7201a8\"],[0.3333333333333333,\"#9c179e\"],[0.4444444444444444,\"#bd3786\"],[0.5555555555555556,\"#d8576b\"],[0.6666666666666666,\"#ed7953\"],[0.7777777777777778,\"#fb9f3a\"],[0.8888888888888888,\"#fdca26\"],[1.0,\"#f0f921\"]]}],\"contourcarpet\":[{\"type\":\"contourcarpet\",\"colorbar\":{\"outlinewidth\":0,\"ticks\":\"\"}}],\"contour\":[{\"type\":\"contour\",\"colorbar\":{\"outlinewidth\":0,\"ticks\":\"\"},\"colorscale\":[[0.0,\"#0d0887\"],[0.1111111111111111,\"#46039f\"],[0.2222222222222222,\"#7201a8\"],[0.3333333333333333,\"#9c179e\"],[0.4444444444444444,\"#bd3786\"],[0.5555555555555556,\"#d8576b\"],[0.6666666666666666,\"#ed7953\"],[0.7777777777777778,\"#fb9f3a\"],[0.8888888888888888,\"#fdca26\"],[1.0,\"#f0f921\"]]}],\"surface\":[{\"type\":\"surface\",\"colorbar\":{\"outlinewidth\":0,\"ticks\":\"\"},\"colorscale\":[[0.0,\"#0d0887\"],[0.1111111111111111,\"#46039f\"],[0.2222222222222222,\"#7201a8\"],[0.3333333333333333,\"#9c179e\"],[0.4444444444444444,\"#bd3786\"],[0.5555555555555556,\"#d8576b\"],[0.6666666666666666,\"#ed7953\"],[0.7777777777777778,\"#fb9f3a\"],[0.8888888888888888,\"#fdca26\"],[1.0,\"#f0f921\"]]}],\"mesh3d\":[{\"type\":\"mesh3d\",\"colorbar\":{\"outlinewidth\":0,\"ticks\":\"\"}}],\"scatter\":[{\"fillpattern\":{\"fillmode\":\"overlay\",\"size\":10,\"solidity\":0.2},\"type\":\"scatter\"}],\"parcoords\":[{\"type\":\"parcoords\",\"line\":{\"colorbar\":{\"outlinewidth\":0,\"ticks\":\"\"}}}],\"scatterpolargl\":[{\"type\":\"scatterpolargl\",\"marker\":{\"colorbar\":{\"outlinewidth\":0,\"ticks\":\"\"}}}],\"bar\":[{\"error_x\":{\"color\":\"#2a3f5f\"},\"error_y\":{\"color\":\"#2a3f5f\"},\"marker\":{\"line\":{\"color\":\"#E5ECF6\",\"width\":0.5},\"pattern\":{\"fillmode\":\"overlay\",\"size\":10,\"solidity\":0.2}},\"type\":\"bar\"}],\"scattergeo\":[{\"type\":\"scattergeo\",\"marker\":{\"colorbar\":{\"outlinewidth\":0,\"ticks\":\"\"}}}],\"scatterpolar\":[{\"type\":\"scatterpolar\",\"marker\":{\"colorbar\":{\"outlinewidth\":0,\"ticks\":\"\"}}}],\"histogram\":[{\"marker\":{\"pattern\":{\"fillmode\":\"overlay\",\"size\":10,\"solidity\":0.2}},\"type\":\"histogram\"}],\"scattergl\":[{\"type\":\"scattergl\",\"marker\":{\"colorbar\":{\"outlinewidth\":0,\"ticks\":\"\"}}}],\"scatter3d\":[{\"type\":\"scatter3d\",\"line\":{\"colorbar\":{\"outlinewidth\":0,\"ticks\":\"\"}},\"marker\":{\"colorbar\":{\"outlinewidth\":0,\"ticks\":\"\"}}}],\"scattermapbox\":[{\"type\":\"scattermapbox\",\"marker\":{\"colorbar\":{\"outlinewidth\":0,\"ticks\":\"\"}}}],\"scatterternary\":[{\"type\":\"scatterternary\",\"marker\":{\"colorbar\":{\"outlinewidth\":0,\"ticks\":\"\"}}}],\"scattercarpet\":[{\"type\":\"scattercarpet\",\"marker\":{\"colorbar\":{\"outlinewidth\":0,\"ticks\":\"\"}}}],\"carpet\":[{\"aaxis\":{\"endlinecolor\":\"#2a3f5f\",\"gridcolor\":\"white\",\"linecolor\":\"white\",\"minorgridcolor\":\"white\",\"startlinecolor\":\"#2a3f5f\"},\"baxis\":{\"endlinecolor\":\"#2a3f5f\",\"gridcolor\":\"white\",\"linecolor\":\"white\",\"minorgridcolor\":\"white\",\"startlinecolor\":\"#2a3f5f\"},\"type\":\"carpet\"}],\"table\":[{\"cells\":{\"fill\":{\"color\":\"#EBF0F8\"},\"line\":{\"color\":\"white\"}},\"header\":{\"fill\":{\"color\":\"#C8D4E3\"},\"line\":{\"color\":\"white\"}},\"type\":\"table\"}],\"barpolar\":[{\"marker\":{\"line\":{\"color\":\"#E5ECF6\",\"width\":0.5},\"pattern\":{\"fillmode\":\"overlay\",\"size\":10,\"solidity\":0.2}},\"type\":\"barpolar\"}],\"pie\":[{\"automargin\":true,\"type\":\"pie\"}]},\"layout\":{\"autotypenumbers\":\"strict\",\"colorway\":[\"#636efa\",\"#EF553B\",\"#00cc96\",\"#ab63fa\",\"#FFA15A\",\"#19d3f3\",\"#FF6692\",\"#B6E880\",\"#FF97FF\",\"#FECB52\"],\"font\":{\"color\":\"#2a3f5f\"},\"hovermode\":\"closest\",\"hoverlabel\":{\"align\":\"left\"},\"paper_bgcolor\":\"white\",\"plot_bgcolor\":\"#E5ECF6\",\"polar\":{\"bgcolor\":\"#E5ECF6\",\"angularaxis\":{\"gridcolor\":\"white\",\"linecolor\":\"white\",\"ticks\":\"\"},\"radialaxis\":{\"gridcolor\":\"white\",\"linecolor\":\"white\",\"ticks\":\"\"}},\"ternary\":{\"bgcolor\":\"#E5ECF6\",\"aaxis\":{\"gridcolor\":\"white\",\"linecolor\":\"white\",\"ticks\":\"\"},\"baxis\":{\"gridcolor\":\"white\",\"linecolor\":\"white\",\"ticks\":\"\"},\"caxis\":{\"gridcolor\":\"white\",\"linecolor\":\"white\",\"ticks\":\"\"}},\"coloraxis\":{\"colorbar\":{\"outlinewidth\":0,\"ticks\":\"\"}},\"colorscale\":{\"sequential\":[[0.0,\"#0d0887\"],[0.1111111111111111,\"#46039f\"],[0.2222222222222222,\"#7201a8\"],[0.3333333333333333,\"#9c179e\"],[0.4444444444444444,\"#bd3786\"],[0.5555555555555556,\"#d8576b\"],[0.6666666666666666,\"#ed7953\"],[0.7777777777777778,\"#fb9f3a\"],[0.8888888888888888,\"#fdca26\"],[1.0,\"#f0f921\"]],\"sequentialminus\":[[0.0,\"#0d0887\"],[0.1111111111111111,\"#46039f\"],[0.2222222222222222,\"#7201a8\"],[0.3333333333333333,\"#9c179e\"],[0.4444444444444444,\"#bd3786\"],[0.5555555555555556,\"#d8576b\"],[0.6666666666666666,\"#ed7953\"],[0.7777777777777778,\"#fb9f3a\"],[0.8888888888888888,\"#fdca26\"],[1.0,\"#f0f921\"]],\"diverging\":[[0,\"#8e0152\"],[0.1,\"#c51b7d\"],[0.2,\"#de77ae\"],[0.3,\"#f1b6da\"],[0.4,\"#fde0ef\"],[0.5,\"#f7f7f7\"],[0.6,\"#e6f5d0\"],[0.7,\"#b8e186\"],[0.8,\"#7fbc41\"],[0.9,\"#4d9221\"],[1,\"#276419\"]]},\"xaxis\":{\"gridcolor\":\"white\",\"linecolor\":\"white\",\"ticks\":\"\",\"title\":{\"standoff\":15},\"zerolinecolor\":\"white\",\"automargin\":true,\"zerolinewidth\":2},\"yaxis\":{\"gridcolor\":\"white\",\"linecolor\":\"white\",\"ticks\":\"\",\"title\":{\"standoff\":15},\"zerolinecolor\":\"white\",\"automargin\":true,\"zerolinewidth\":2},\"scene\":{\"xaxis\":{\"backgroundcolor\":\"#E5ECF6\",\"gridcolor\":\"white\",\"linecolor\":\"white\",\"showbackground\":true,\"ticks\":\"\",\"zerolinecolor\":\"white\",\"gridwidth\":2},\"yaxis\":{\"backgroundcolor\":\"#E5ECF6\",\"gridcolor\":\"white\",\"linecolor\":\"white\",\"showbackground\":true,\"ticks\":\"\",\"zerolinecolor\":\"white\",\"gridwidth\":2},\"zaxis\":{\"backgroundcolor\":\"#E5ECF6\",\"gridcolor\":\"white\",\"linecolor\":\"white\",\"showbackground\":true,\"ticks\":\"\",\"zerolinecolor\":\"white\",\"gridwidth\":2}},\"shapedefaults\":{\"line\":{\"color\":\"#2a3f5f\"}},\"annotationdefaults\":{\"arrowcolor\":\"#2a3f5f\",\"arrowhead\":0,\"arrowwidth\":1},\"geo\":{\"bgcolor\":\"white\",\"landcolor\":\"#E5ECF6\",\"subunitcolor\":\"white\",\"showland\":true,\"showlakes\":true,\"lakecolor\":\"white\"},\"title\":{\"x\":0.05},\"mapbox\":{\"style\":\"light\"}}}},                        {\"responsive\": true}                    ).then(function(){\n",
       "                            \n",
       "var gd = document.getElementById('5c39cd94-edbe-4849-a095-95d4197328a8');\n",
       "var x = new MutationObserver(function (mutations, observer) {{\n",
       "        var display = window.getComputedStyle(gd).display;\n",
       "        if (!display || display === 'none') {{\n",
       "            console.log([gd, 'removed!']);\n",
       "            Plotly.purge(gd);\n",
       "            observer.disconnect();\n",
       "        }}\n",
       "}});\n",
       "\n",
       "// Listen for the removal of the full notebook cells\n",
       "var notebookContainer = gd.closest('#notebook-container');\n",
       "if (notebookContainer) {{\n",
       "    x.observe(notebookContainer, {childList: true});\n",
       "}}\n",
       "\n",
       "// Listen for the clearing of the current output cell\n",
       "var outputEl = gd.closest('.output');\n",
       "if (outputEl) {{\n",
       "    x.observe(outputEl, {childList: true});\n",
       "}}\n",
       "\n",
       "                        })                };                });            </script>        </div>"
      ]
     },
     "metadata": {},
     "output_type": "display_data"
    }
   ],
   "source": [
    "colors = px.colors.qualitative.Plotly\n",
    "\n",
    "# Create a trace for each iteration\n",
    "traces = []\n",
    "for i, (v1, v2) in enumerate(zip(v_0_0_schema1, v_0_0_schema2)):\n",
    "    trace1 = go.Scatter(\n",
    "        x=arr_si,\n",
    "        y=v1,\n",
    "        mode='lines',\n",
    "        line=dict(color=colors[i], dash='dash'),\n",
    "        name=f'opt_schema1'\n",
    "    )\n",
    "    trace2 = go.Scatter(\n",
    "        x=arr_si,\n",
    "        y=v2,\n",
    "        mode='lines',\n",
    "        line=dict(color=colors[i]),\n",
    "        name=f'opt_schema2'\n",
    "    )\n",
    "    traces.extend([trace1, trace2])\n",
    "\n",
    "# Create the layout\n",
    "layout = go.Layout(\n",
    "    title='Value Function (0, 0) vs Iteration',\n",
    "    xaxis=dict(title='Iteration', type='log'),\n",
    "    yaxis=dict(title='Value Function (0, 0)')\n",
    ")\n",
    "\n",
    "# Create the figure\n",
    "fig = go.Figure(data=traces, layout=layout)\n",
    "\n",
    "# Show the figure\n",
    "fig.show()"
   ]
  },
  {
   "cell_type": "code",
   "execution_count": null,
   "metadata": {},
   "outputs": [],
   "source": []
  },
  {
   "cell_type": "markdown",
   "metadata": {},
   "source": [
    "# Ex 3.17\n",
    "\n",
    "\\begin{align*}\n",
    "q_{\\pi}(s, a) =& \\sum_{s', r}p(s', r | s, a)(r+\\gamma*v_{\\pi}(s')) \\\\\n",
    "= & \\sum_{s', r}p(s', r | s, a)(r+\\gamma*\\sum_{a'}\\pi(a'|s')q_{\\pi}(s', a')) \\\\\n",
    "\\end{align*}"
   ]
  },
  {
   "cell_type": "markdown",
   "metadata": {},
   "source": [
    "# Example 3.8\n",
    "- A naive iterative method to solve the Bellman equation for Example 3.5:\n",
    "    - Given the solution from the Example 3.5 as the initial values, meaning the value of $v_0(s)$.\n",
    "    - At the step $n$ find the best value for the action-value function $\\tilde{v}(s)=\\max_{a}q_{\\pi_n}(s, a)$.\n",
    "    - Use the following updating schema with $\\alpha$ as a parameter\n",
    "\n",
    "\\begin{align*}\n",
    "v_{n+1}(s) = v_{n}(s)+\\alpha(\\tilde{v}(s)-v_{n}(s))\n",
    "\\end{align*}\n",
    "- The \"in-place\" algorithm converges faster.\n",
    "\n"
   ]
  },
  {
   "cell_type": "code",
   "execution_count": 55,
   "metadata": {},
   "outputs": [],
   "source": [
    "from itertools import product\n",
    "\n",
    "def ij(i, j):\n",
    "    return i*5 + j\n",
    "\n",
    "def opt_schema1(v0: np.ndarray, ga: float, alp: float, max_iter: int, memo_step: int = 1):\n",
    "    \"\"\"\n",
    "    Each time step, update all the value function, and then go to the next step. \n",
    "    When updating the value function at n+1, only the value function at step n is used.\n",
    "    \"\"\"\n",
    "    nr, nc = v0.shape\n",
    "    vn = v0.copy()\n",
    "    memo_v = {}\n",
    "    memo_q = {}\n",
    "    for si in range(max_iter):\n",
    "        qn = np.zeros((vn.shape[0], vn.shape[1], 4))\n",
    "        vnn = vn.copy()\n",
    "        for i, j in product(range(nr), range(nc)):\n",
    "            if i==0 and j==1:\n",
    "                qn[i, j, :] = 10 + ga*vn[4, 1]\n",
    "            elif i==0 and j==3:\n",
    "                qn[i, j, :] = 5 + ga*vn[2, 3]\n",
    "            else:\n",
    "                # Corners\n",
    "                if i==0 and j==0:\n",
    "                    qn[i, j, :] = [-1+ga*vn[i, j], ga*vn[i, j+1], -1+ga*vn[i, j], ga*vn[i+1, j]]\n",
    "                elif i==0 and j==4:\n",
    "                    qn[i, j, :] = [ga*vn[i, j-1], -1+ga*vn[i, j], -1+ga*vn[i, j], ga*vn[i+1, j]]\n",
    "                elif i==4 and j==0:\n",
    "                    qn[i, j, :] = [-1+ga*vn[i, j], ga*vn[i, j+1], ga*vn[i-1, j], -1+ga*vn[i, j]]\n",
    "                elif i==4 and j==4:\n",
    "                    qn[i, j, :] = [ga*vn[i, j-1], -1+ga*vn[i, j], ga*vn[i-1, j], -1+ga*vn[i, j]]\n",
    "                # Boundaries\n",
    "                elif i==0:\n",
    "                    qn[i, j, :] = [ga*vn[i, j-1], ga*vn[i, j+1], -1+ga*vn[i, j], ga*vn[i+1, j]]\n",
    "                elif i==4:\n",
    "                    qn[i, j, :] = [ga*vn[i, j-1], ga*vn[i, j+1], ga*vn[i-1, j], -1+ga*vn[i, j]]\n",
    "                elif j==0:\n",
    "                    qn[i, j, :] = [-1+ga*vn[i, j], ga*vn[i, j+1], ga*vn[i-1, j], ga*vn[i+1, j]]\n",
    "                elif j==4:\n",
    "                    qn[i, j, :] = [ga*vn[i, j-1], -1+ga*vn[i, j], ga*vn[i-1, j], ga*vn[i+1, j]]\n",
    "                # Inner\n",
    "                else:\n",
    "                    qn[i, j, :] = [ga*vn[i, j-1], ga*vn[i, j+1], ga*vn[i-1, j], ga*vn[i+1, j]]\n",
    "            \n",
    "            vnn[i, j] += alp*(max(qn[i, j, :]) - vnn[i, j])\n",
    "        if si%memo_step==0:\n",
    "            memo_v[si] = vn\n",
    "            memo_q[si] = qn\n",
    "        vn = vnn\n",
    "    memo_q[max_iter-1] = qn\n",
    "    memo_v[max_iter] = vn\n",
    "    \n",
    "    return memo_v, memo_q\n",
    "\n",
    "def opt_schema2(v0: np.ndarray, ga: float, alp: float, max_iter: int, memo_step: int = 1):\n",
    "    \"\"\"\n",
    "    When updating the value function at n+1, newly calcualted n+1 values are also used.\n",
    "    RLAI book call this \"in-place\" algorithm.\n",
    "    \"\"\"\n",
    "    nr, nc = v0.shape\n",
    "    vn = v0.copy()\n",
    "    memo_v = {}\n",
    "    memo_q = {}\n",
    "    for si in range(max_iter):\n",
    "        qn = np.zeros((vn.shape[0], vn.shape[1], 4))\n",
    "        vnn = vn.copy()\n",
    "        # Using the vnn values below to use the newly obtained v_{n+1} values.\n",
    "        for i, j in product(range(nr), range(nc)):\n",
    "            if i==0 and j==1:\n",
    "                qn[i, j, :] = 10 + ga*vnn[4, 1]\n",
    "            elif i==0 and j==3:\n",
    "                qn[i, j, :] = 5 + ga*vnn[2, 3]\n",
    "            else:\n",
    "                # Corners\n",
    "                if i==0 and j==0:\n",
    "                    qn[i, j, :] = [-1+ga*vnn[i, j], ga*vnn[i, j+1], -1+ga*vnn[i, j], ga*vnn[i+1, j]]\n",
    "                elif i==0 and j==4:\n",
    "                    qn[i, j, :] = [ga*vnn[i, j-1], -1+ga*vnn[i, j], -1+ga*vnn[i, j], ga*vnn[i+1, j]]\n",
    "                elif i==4 and j==0:\n",
    "                    qn[i, j, :] = [-1+ga*vnn[i, j], ga*vnn[i, j+1], ga*vnn[i-1, j], -1+ga*vnn[i, j]]\n",
    "                elif i==4 and j==4:\n",
    "                    qn[i, j, :] = [ga*vnn[i, j-1], -1+ga*vnn[i, j], ga*vnn[i-1, j], -1+ga*vnn[i, j]]\n",
    "                # Boundaries\n",
    "                elif i==0:\n",
    "                    qn[i, j, :] = [ga*vnn[i, j-1], ga*vnn[i, j+1], -1+ga*vnn[i, j], ga*vnn[i+1, j]]\n",
    "                elif i==4:\n",
    "                    qn[i, j, :] = [ga*vnn[i, j-1], ga*vnn[i, j+1], ga*vnn[i-1, j], -1+ga*vnn[i, j]]\n",
    "                elif j==0:\n",
    "                    qn[i, j, :] = [-1+ga*vnn[i, j], ga*vnn[i, j+1], ga*vnn[i-1, j], ga*vnn[i+1, j]]\n",
    "                elif j==4:\n",
    "                    qn[i, j, :] = [ga*vnn[i, j-1], -1+ga*vnn[i, j], ga*vnn[i-1, j], ga*vnn[i+1, j]]\n",
    "                # Inner\n",
    "                else:\n",
    "                    qn[i, j, :] = [ga*vnn[i, j-1], ga*vnn[i, j+1], ga*vnn[i-1, j], ga*vnn[i+1, j]]\n",
    "            \n",
    "            vnn[i, j] += alp*(max(qn[i, j, :]) - vnn[i, j])\n",
    "        if si%memo_step==0:\n",
    "            memo_v[si] = vn\n",
    "            memo_q[si] = qn\n",
    "        vn = vnn\n",
    "    memo_q[max_iter-1] = qn\n",
    "    memo_v[max_iter] = vn\n",
    "    \n",
    "    return memo_v, memo_q\n"
   ]
  },
  {
   "cell_type": "code",
   "execution_count": 56,
   "metadata": {},
   "outputs": [],
   "source": [
    "v0 = sol.reshape(5, 5, order='C')\n",
    "ga, alp = 0.9, 0.5\n",
    "max_iter = 1000\n",
    "memo_step = 10\n",
    "memo1_v, memo1_q = opt_schema1(v0, ga, alp, max_iter, memo_step)\n",
    "memo2_v, memo2_q = opt_schema2(v0, ga, alp, max_iter, memo_step)"
   ]
  },
  {
   "cell_type": "code",
   "execution_count": 57,
   "metadata": {},
   "outputs": [
    {
     "name": "stdout",
     "output_type": "stream",
     "text": [
      "[[  21.977   24.419   21.977   19.419   17.477]\n",
      " [  19.780   21.977   19.780   17.802   16.022]\n",
      " [  17.802   19.780   17.802   16.022   14.419]\n",
      " [  16.022   17.802   16.022   14.419   12.977]\n",
      " [  14.419   16.022   14.419   12.977   11.680]]\n",
      "[[  21.977   24.419   21.977   19.419   17.477]\n",
      " [  19.780   21.977   19.780   17.802   16.022]\n",
      " [  17.802   19.780   17.802   16.022   14.419]\n",
      " [  16.022   17.802   16.022   14.419   12.977]\n",
      " [  14.419   16.022   14.419   12.977   11.680]]\n"
     ]
    }
   ],
   "source": [
    "pr_val_func(memo1_v[max_iter])\n",
    "pr_val_func(memo2_v[max_iter])"
   ]
  },
  {
   "cell_type": "code",
   "execution_count": 58,
   "metadata": {},
   "outputs": [],
   "source": [
    "arr_si = []\n",
    "v_0_0_schema1 = []\n",
    "v_0_0_schema2 = []\n",
    "ls_alp = [0.1, 0.5, 0.9, 1.0, 1.1]\n",
    "for alp in ls_alp:\n",
    "    memo1_v, memo1_q = opt_schema1(v0, ga, alp, max_iter, memo_step)\n",
    "    memo2_v, memo2_q = opt_schema2(v0, ga, alp, max_iter, memo_step)\n",
    "    if len(arr_si)==0:\n",
    "        arr_si = np.array(sorted(list(memo1_v.keys())))\n",
    "    v_0_0_schema1.append([memo1_v[si][0, 0] for si in arr_si])\n",
    "    v_0_0_schema2.append([memo2_v[si][0, 0] for si in arr_si])\n",
    "arr_si += 1"
   ]
  },
  {
   "cell_type": "code",
   "execution_count": 50,
   "metadata": {},
   "outputs": [
    {
     "data": {
      "text/html": [
       "<div>                            <div id=\"28a85e89-e01c-4dfe-a13b-a9357484000b\" class=\"plotly-graph-div\" style=\"height:525px; width:100%;\"></div>            <script type=\"text/javascript\">                require([\"plotly\"], function(Plotly) {                    window.PLOTLYENV=window.PLOTLYENV || {};                                    if (document.getElementById(\"28a85e89-e01c-4dfe-a13b-a9357484000b\")) {                    Plotly.newPlot(                        \"28a85e89-e01c-4dfe-a13b-a9357484000b\",                        [{\"line\":{\"color\":\"#636EFA\",\"dash\":\"dash\"},\"mode\":\"lines\",\"name\":\"schema1: alpha 0.1\",\"x\":[1,11,21,31,41,51,61,71,81,91,101,111,121,131,141,151,161,171,181,191,201,211,221,231,241,251,261,271,281,291,301,311,321,331,341,351,361,371,381,391,401,411,421,431,441,451,461,471,481,491,501,511,521,531,541,551,561,571,581,591,601,611,621,631,641,651,661,671,681,691,701,711,721,731,741,751,761,771,781,791,801,811,821,831,841,851,861,871,881,891,901,911,921,931,941,951,961,971,981,991,1001],\"y\":[3.308996335634639,6.372946920305157,7.79528984322451,8.895161134878734,10.012680225368367,11.136116848078691,12.191445458682143,13.142881295247527,13.992318740420114,14.754774410955756,15.443597795737311,16.0675346449176,16.632576921941357,17.143811827534623,17.60610987759968,18.02411835869205,18.402119691887826,18.743975424087793,19.053151746594324,19.332770590832133,19.585654065106958,19.814356771963844,20.02119076466298,20.208247479888307,20.37741823123582,20.530413291440436,20.668779317644695,20.79391507733523,20.907085610006664,21.009435006574652,21.101997964767897,21.18571024521932,21.261418131620946,21.329886987258917,21.391808993015,21.44781014502354,21.498456583047442,21.54426031375107,21.585684386770936,21.623147575887735,21.657028612599166,21.687670014883697,21.715381549862588,21.740443365368254,21.763108822078717,21.783607054849572,21.802145289136917,21.818910935928717,21.83407348636315,21.84778622518746,21.86018778037944,21.87140352459731,21.88154684262583,21.890720277631942,21.89901656781772,21.906519583950814,21.91330517725008,21.919441946198244,21.924991930033432,21.930011235930564,21.934550606212916,21.938655931328107,21.942368713774368,21.94572648766717,21.948763198187752,21.95150954474956,21.953993291351818,21.956239547257766,21.95827102083499,21.96010824912408,21.96176980545643,21.963272487220028,21.964631485671468,21.96586053951092,21.96697207377254,21.967977325434504,21.96888645701846,21.969708659326816,21.970452244356515,21.97112472932863,21.971732912683116,21.972282942807233,21.9727803801922,21.973230253646605,21.97363711113479,21.974005065754188,21.97433783731639,21.974638789952316,21.974910966121666,21.975157117370482,21.97537973214766,21.975581060961755,21.975763139132415,21.9759278073662,21.97607673036517,21.97621141365599,21.97633321881001,21.97644337720795,21.976543002488466,21.976633101806375,21.976714586014463],\"type\":\"scatter\"},{\"line\":{\"color\":\"#636EFA\"},\"mode\":\"lines\",\"name\":\"schema2: alpha 0.1\",\"x\":[1,11,21,31,41,51,61,71,81,91,101,111,121,131,141,151,161,171,181,191,201,211,221,231,241,251,261,271,281,291,301,311,321,331,341,351,361,371,381,391,401,411,421,431,441,451,461,471,481,491,501,511,521,531,541,551,561,571,581,591,601,611,621,631,641,651,661,671,681,691,701,711,721,731,741,751,761,771,781,791,801,811,821,831,841,851,861,871,881,891,901,911,921,931,941,951,961,971,981,991,1001],\"y\":[3.308996335634639,6.383259467933209,7.8687225923667095,9.064455914993102,10.26252848994645,11.438009562766428,12.528201350995703,13.507763432972867,14.380833223409795,15.16081633071799,15.860028167260456,16.48778334159118,17.05141978156943,17.557306316844816,18.011248019846,18.418551081418812,18.784014293016057,19.11194525573541,19.40620248126351,19.6702440880785,19.907172095783572,20.11977027527251,20.310536907628798,20.481713881128115,20.6353128780287,20.773138978124376,20.89681188306667,21.007784964926913,21.10736235165573,21.196714253269697,21.27689071291848,21.348833946117473,21.41338941328575,21.471315755440028,21.523293709624298,21.569934108798666,21.611785060210156,21.649338386619466,21.6830354060865,21.713272118238063,21.74040385796455,21.76474947123411,21.786595062097255,21.806197354915913,21.823786711329095,21.83956983740992,21.853732212827836,21.8664402705631,21.877843352788883,21.888075465906137,21.89725685535606,21.90549541871683,21.91288797369118,21.91952139588576,21.9254736397533,21.930814654695425,21.935607207091937,21.939907617916887,21.9437664246097,21.94722897497957,21.950335960122466,21.953123892613544,21.955625535594557,21.95787028779873,21.959884529037943,21.961691930212208,21.96331373148463,21.964768991890942,21.966074813316915,21.967246541475745,21.96829794624741,21.96924138349908,21.97008794028847,21.970847565156355,21.971529185039547,21.972140810178242,21.972689628250453,21.97318208884001,21.973623979230553,21.974020492416372,21.97437628812927,21.974695547598674,21.97498202268848,21.97523907998809,21.9754697403758,21.975676714519448,21.975862434731603,21.9760290835535,21.976178619403786,21.976312799593398,21.97643320097708,21.97654123848421,21.97663818174674,21.976725170019602,21.976803225568993,21.97687326568578,21.976936113465307,21.97699250748024,21.97704311046007,21.97708851707939,21.97712926094635],\"type\":\"scatter\"},{\"line\":{\"color\":\"#EF553B\",\"dash\":\"dash\"},\"mode\":\"lines\",\"name\":\"schema1: alpha 0.5\",\"x\":[1,11,21,31,41,51,61,71,81,91,101,111,121,131,141,151,161,171,181,191,201,211,221,231,241,251,261,271,281,291,301,311,321,331,341,351,361,371,381,391,401,411,421,431,441,451,461,471,481,491,501,511,521,531,541,551,561,571,581,591,601,611,621,631,641,651,661,671,681,691,701,711,721,731,741,751,761,771,781,791,801,811,821,831,841,851,861,871,881,891,901,911,921,931,941,951,961,971,981,991,1001],\"y\":[3.308996335634639,11.224370959489871,15.570914156704127,18.145136898805063,19.683220191601627,20.6038464376121,21.1550383871439,21.485056020935023,21.68264969796623,21.800956328899858,21.871790879037473,21.91420214079762,21.93959532985539,21.95479917014955,21.963902270951955,21.96935263366397,21.972615967151903,21.97456984545618,21.975739704571726,21.976440142437912,21.976859520462035,21.977110617576585,21.977260958694398,21.97735097347512,21.977404868649415,21.977437137681115,21.977456458342388,21.977468026335984,21.977474952521057,21.977479099483915,21.97748158242376,21.977483069051566,21.977483959150547,21.977484492085683,21.977484811173635,21.977485002223382,21.977485116611923,21.97748518510057,21.977485226107248,21.97748525065947,21.977485265359782,21.977485274161403,21.97748527943126,21.97748528258652,21.97748528447569,21.977485285606807,21.977485286284043,21.977485286689532,21.977485286932314,21.977485287077677,21.97748528716471,21.97748528721682,21.977485287248022,21.977485287266703,21.977485287277887,21.97748528728458,21.97748528728859,21.977485287290992,21.977485287292428,21.97748528729329,21.97748528729381,21.977485287294115,21.9774852872943,21.977485287294414,21.977485287294485,21.97748528729452,21.97748528729454,21.97748528729454,21.97748528729454,21.97748528729454,21.97748528729454,21.97748528729454,21.97748528729454,21.97748528729454,21.97748528729454,21.97748528729454,21.97748528729454,21.97748528729454,21.97748528729454,21.97748528729454,21.97748528729454,21.97748528729454,21.97748528729454,21.97748528729454,21.97748528729454,21.97748528729454,21.97748528729454,21.97748528729454,21.97748528729454,21.97748528729454,21.97748528729454,21.97748528729454,21.97748528729454,21.97748528729454,21.97748528729454,21.97748528729454,21.97748528729454,21.97748528729454,21.97748528729454,21.97748528729454,21.97748528729454],\"type\":\"scatter\"},{\"line\":{\"color\":\"#EF553B\"},\"mode\":\"lines\",\"name\":\"schema2: alpha 0.5\",\"x\":[1,11,21,31,41,51,61,71,81,91,101,111,121,131,141,151,161,171,181,191,201,211,221,231,241,251,261,271,281,291,301,311,321,331,341,351,361,371,381,391,401,411,421,431,441,451,461,471,481,491,501,511,521,531,541,551,561,571,581,591,601,611,621,631,641,651,661,671,681,691,701,711,721,731,741,751,761,771,781,791,801,811,821,831,841,851,861,871,881,891,901,911,921,931,941,951,961,971,981,991,1001],\"y\":[3.308996335634639,13.267719844127104,18.131941806490584,20.279274764270884,21.227546579733563,21.646308409328615,21.831235835997823,21.91290076033134,21.948964420473672,21.964890322487005,21.97192328458617,21.975029077642468,21.97640061219257,21.97700628906415,21.977273759156496,21.97739187535616,21.977444036091235,21.9774670705462,21.977477242682674,21.97748173475165,21.977483718472932,21.977484594494683,21.977484981350504,21.977485152188066,21.97748522763083,21.977485260946754,21.977485275659237,21.977485282156348,21.977485285025512,21.977485286292545,21.977485286852072,21.977485287099164,21.97748528720828,21.97748528725647,21.97748528727775,21.977485287287152,21.977485287291298,21.977485287293128,21.977485287293938,21.9774852872943,21.977485287294453,21.97748528729452,21.97748528729454,21.97748528729454,21.97748528729454,21.97748528729454,21.97748528729454,21.97748528729454,21.97748528729454,21.97748528729454,21.97748528729454,21.97748528729454,21.97748528729454,21.97748528729454,21.97748528729454,21.97748528729454,21.97748528729454,21.97748528729454,21.97748528729454,21.97748528729454,21.97748528729454,21.97748528729454,21.97748528729454,21.97748528729454,21.97748528729454,21.97748528729454,21.97748528729454,21.97748528729454,21.97748528729454,21.97748528729454,21.97748528729454,21.97748528729454,21.97748528729454,21.97748528729454,21.97748528729454,21.97748528729454,21.97748528729454,21.97748528729454,21.97748528729454,21.97748528729454,21.97748528729454,21.97748528729454,21.97748528729454,21.97748528729454,21.97748528729454,21.97748528729454,21.97748528729454,21.97748528729454,21.97748528729454,21.97748528729454,21.97748528729454,21.97748528729454,21.97748528729454,21.97748528729454,21.97748528729454,21.97748528729454,21.97748528729454,21.97748528729454,21.97748528729454,21.97748528729454,21.97748528729454],\"type\":\"scatter\"},{\"line\":{\"color\":\"#00CC96\",\"dash\":\"dash\"},\"mode\":\"lines\",\"name\":\"schema1: alpha 0.9\",\"x\":[1,11,21,31,41,51,61,71,81,91,101,111,121,131,141,151,161,171,181,191,201,211,221,231,241,251,261,271,281,291,301,311,321,331,341,351,361,371,381,391,401,411,421,431,441,451,461,471,481,491,501,511,521,531,541,551,561,571,581,591,601,611,621,631,641,651,661,671,681,691,701,711,721,731,741,751,761,771,781,791,801,811,821,831,841,851,861,871,881,891,901,911,921,931,941,951,961,971,981,991,1001],\"y\":[3.308996335634639,14.702581107238514,19.236042045825904,20.92796823777498,21.56890080211279,21.817766427591184,21.915185279562262,21.953229585199423,21.96804417466719,21.97380931192655,21.976053733838782,21.9769277866798,21.977268185069587,21.977400744870703,21.97745236531125,21.977472466951717,21.977480294840664,21.977483343151334,21.977484530213868,21.977484992475194,21.977485172487164,21.977485242586717,21.977485269884614,21.977485280514856,21.977485284654446,21.977485286266468,21.97748528689421,21.977485287138673,21.97748528723386,21.977485287270937,21.97748528728537,21.97748528729099,21.97748528729318,21.977485287294027,21.97748528729436,21.977485287294495,21.97748528729455,21.977485287294567,21.977485287294574,21.977485287294574,21.977485287294574,21.977485287294574,21.977485287294574,21.977485287294574,21.977485287294574,21.977485287294574,21.977485287294574,21.977485287294574,21.977485287294574,21.977485287294574,21.977485287294574,21.977485287294574,21.977485287294574,21.977485287294574,21.977485287294574,21.977485287294574,21.977485287294574,21.977485287294574,21.977485287294574,21.977485287294574,21.977485287294574,21.977485287294574,21.977485287294574,21.977485287294574,21.977485287294574,21.977485287294574,21.977485287294574,21.977485287294574,21.977485287294574,21.977485287294574,21.977485287294574,21.977485287294574,21.977485287294574,21.977485287294574,21.977485287294574,21.977485287294574,21.977485287294574,21.977485287294574,21.977485287294574,21.977485287294574,21.977485287294574,21.977485287294574,21.977485287294574,21.977485287294574,21.977485287294574,21.977485287294574,21.977485287294574,21.977485287294574,21.977485287294574,21.977485287294574,21.977485287294574,21.977485287294574,21.977485287294574,21.977485287294574,21.977485287294574,21.977485287294574,21.977485287294574,21.977485287294574,21.977485287294574,21.977485287294574,21.977485287294574],\"type\":\"scatter\"},{\"line\":{\"color\":\"#00CC96\"},\"mode\":\"lines\",\"name\":\"schema2: alpha 0.9\",\"x\":[1,11,21,31,41,51,61,71,81,91,101,111,121,131,141,151,161,171,181,191,201,211,221,231,241,251,261,271,281,291,301,311,321,331,341,351,361,371,381,391,401,411,421,431,441,451,461,471,481,491,501,511,521,531,541,551,561,571,581,591,601,611,621,631,641,651,661,671,681,691,701,711,721,731,741,751,761,771,781,791,801,811,821,831,841,851,861,871,881,891,901,911,921,931,941,951,961,971,981,991,1001],\"y\":[3.308996335634639,20.80375199843511,21.927677017355307,21.97537163526817,21.97739559285439,21.97748148104241,21.977485125773352,21.9774852804403,21.977485287003706,21.977485287282228,21.977485287294055,21.97748528729456,21.977485287294574,21.977485287294574,21.977485287294574,21.977485287294574,21.977485287294574,21.977485287294574,21.977485287294574,21.977485287294574,21.977485287294574,21.977485287294574,21.977485287294574,21.977485287294574,21.977485287294574,21.977485287294574,21.977485287294574,21.977485287294574,21.977485287294574,21.977485287294574,21.977485287294574,21.977485287294574,21.977485287294574,21.977485287294574,21.977485287294574,21.977485287294574,21.977485287294574,21.977485287294574,21.977485287294574,21.977485287294574,21.977485287294574,21.977485287294574,21.977485287294574,21.977485287294574,21.977485287294574,21.977485287294574,21.977485287294574,21.977485287294574,21.977485287294574,21.977485287294574,21.977485287294574,21.977485287294574,21.977485287294574,21.977485287294574,21.977485287294574,21.977485287294574,21.977485287294574,21.977485287294574,21.977485287294574,21.977485287294574,21.977485287294574,21.977485287294574,21.977485287294574,21.977485287294574,21.977485287294574,21.977485287294574,21.977485287294574,21.977485287294574,21.977485287294574,21.977485287294574,21.977485287294574,21.977485287294574,21.977485287294574,21.977485287294574,21.977485287294574,21.977485287294574,21.977485287294574,21.977485287294574,21.977485287294574,21.977485287294574,21.977485287294574,21.977485287294574,21.977485287294574,21.977485287294574,21.977485287294574,21.977485287294574,21.977485287294574,21.977485287294574,21.977485287294574,21.977485287294574,21.977485287294574,21.977485287294574,21.977485287294574,21.977485287294574,21.977485287294574,21.977485287294574,21.977485287294574,21.977485287294574,21.977485287294574,21.977485287294574,21.977485287294574],\"type\":\"scatter\"},{\"line\":{\"color\":\"#AB63FA\",\"dash\":\"dash\"},\"mode\":\"lines\",\"name\":\"schema1: alpha 1.0\",\"x\":[1,11,21,31,41,51,61,71,81,91,101,111,121,131,141,151,161,171,181,191,201,211,221,231,241,251,261,271,281,291,301,311,321,331,341,351,361,371,381,391,401,411,421,431,441,451,461,471,481,491,501,511,521,531,541,551,561,571,581,591,601,611,621,631,641,651,661,671,681,691,701,711,721,731,741,751,761,771,781,791,801,811,821,831,841,851,861,871,881,891,901,911,921,931,941,951,961,971,981,991,1001],\"y\":[3.308996335634639,15.357766722373714,19.66933214417696,21.17268204984041,21.69686774987163,21.879640002081242,21.943368745875254,21.96558958485088,21.973337512322612,21.976039047587463,21.97698101468949,21.97730945830925,21.97742397951825,21.977463910594764,21.977477833700235,21.977482688386928,21.97748438111151,21.97748497132808,21.977485177123874,21.97748524888043,21.977485273900392,21.977485282624315,21.97748528566616,21.97748528672678,21.977485287096595,21.97748528722554,21.9774852872705,21.977485287286182,21.977485287291646,21.977485287293554,21.977485287294222,21.97748528729445,21.977485287294535,21.97748528729456,21.977485287294574,21.977485287294574,21.977485287294574,21.977485287294574,21.977485287294574,21.977485287294574,21.977485287294574,21.977485287294574,21.977485287294574,21.977485287294574,21.977485287294574,21.977485287294574,21.977485287294574,21.977485287294574,21.977485287294574,21.977485287294574,21.977485287294574,21.977485287294574,21.977485287294574,21.977485287294574,21.977485287294574,21.977485287294574,21.977485287294574,21.977485287294574,21.977485287294574,21.977485287294574,21.977485287294574,21.977485287294574,21.977485287294574,21.977485287294574,21.977485287294574,21.977485287294574,21.977485287294574,21.977485287294574,21.977485287294574,21.977485287294574,21.977485287294574,21.977485287294574,21.977485287294574,21.977485287294574,21.977485287294574,21.977485287294574,21.977485287294574,21.977485287294574,21.977485287294574,21.977485287294574,21.977485287294574,21.977485287294574,21.977485287294574,21.977485287294574,21.977485287294574,21.977485287294574,21.977485287294574,21.977485287294574,21.977485287294574,21.977485287294574,21.977485287294574,21.977485287294574,21.977485287294574,21.977485287294574,21.977485287294574,21.977485287294574,21.977485287294574,21.977485287294574,21.977485287294574,21.977485287294574,21.977485287294574],\"type\":\"scatter\"},{\"line\":{\"color\":\"#AB63FA\"},\"mode\":\"lines\",\"name\":\"schema2: alpha 1.0\",\"x\":[1,11,21,31,41,51,61,71,81,91,101,111,121,131,141,151,161,171,181,191,201,211,221,231,241,251,261,271,281,291,301,311,321,331,341,351,361,371,381,391,401,411,421,431,441,451,461,471,481,491,501,511,521,531,541,551,561,571,581,591,601,611,621,631,641,651,661,671,681,691,701,711,721,731,741,751,761,771,781,791,801,811,821,831,841,851,861,871,881,891,901,911,921,931,941,951,961,971,981,991,1001],\"y\":[3.308996335634639,21.769560794659203,21.976413691199436,21.977479764529186,21.977485258831486,21.977485287147886,21.977485287293824,21.977485287294574,21.977485287294574,21.977485287294574,21.977485287294574,21.977485287294574,21.977485287294574,21.977485287294574,21.977485287294574,21.977485287294574,21.977485287294574,21.977485287294574,21.977485287294574,21.977485287294574,21.977485287294574,21.977485287294574,21.977485287294574,21.977485287294574,21.977485287294574,21.977485287294574,21.977485287294574,21.977485287294574,21.977485287294574,21.977485287294574,21.977485287294574,21.977485287294574,21.977485287294574,21.977485287294574,21.977485287294574,21.977485287294574,21.977485287294574,21.977485287294574,21.977485287294574,21.977485287294574,21.977485287294574,21.977485287294574,21.977485287294574,21.977485287294574,21.977485287294574,21.977485287294574,21.977485287294574,21.977485287294574,21.977485287294574,21.977485287294574,21.977485287294574,21.977485287294574,21.977485287294574,21.977485287294574,21.977485287294574,21.977485287294574,21.977485287294574,21.977485287294574,21.977485287294574,21.977485287294574,21.977485287294574,21.977485287294574,21.977485287294574,21.977485287294574,21.977485287294574,21.977485287294574,21.977485287294574,21.977485287294574,21.977485287294574,21.977485287294574,21.977485287294574,21.977485287294574,21.977485287294574,21.977485287294574,21.977485287294574,21.977485287294574,21.977485287294574,21.977485287294574,21.977485287294574,21.977485287294574,21.977485287294574,21.977485287294574,21.977485287294574,21.977485287294574,21.977485287294574,21.977485287294574,21.977485287294574,21.977485287294574,21.977485287294574,21.977485287294574,21.977485287294574,21.977485287294574,21.977485287294574,21.977485287294574,21.977485287294574,21.977485287294574,21.977485287294574,21.977485287294574,21.977485287294574,21.977485287294574,21.977485287294574],\"type\":\"scatter\"},{\"line\":{\"color\":\"#FFA15A\",\"dash\":\"dash\"},\"mode\":\"lines\",\"name\":\"schema1: alpha 1.1\",\"x\":[1,11,21,31,41,51,61,71,81,91,101,111,121,131,141,151,161,171,181,191,201,211,221,231,241,251,261,271,281,291,301,311,321,331,341,351,361,371,381,391,401,411,421,431,441,451,461,471,481,491,501,511,521,531,541,551,561,571,581,591,601,611,621,631,641,651,661,671,681,691,701,711,721,731,741,751,761,771,781,791,801,811,821,831,841,851,861,871,881,891,901,911,921,931,941,951,961,971,981,991,1001],\"y\":[3.308996335634639,16.30426170670253,21.045674955983632,23.668798956882778,24.836005876863595,25.458511632812666,26.3573308870604,27.70449767355956,28.22656449889649,27.599300159375744,25.946732623525186,22.9446488022378,22.962955413496136,23.93145088991243,23.84268523436176,22.850454940134096,21.417464595647292,22.59830511977151,23.689538294759853,24.10166627922154,23.71704840240435,23.022560361693394,23.321427104120573,22.432200413162153,20.908590943688246,20.88300615704566,20.24132689197176,19.89197014321633,20.02858709326988,20.853236558335297,21.930813683748315,23.040895411911446,24.626862683735116,26.306112540523724,27.738142929742533,28.217337909010475,27.587159812921502,25.925401520050556,22.909255893795578,22.97922584961895,23.93496007741122,23.83933593615178,22.84298888790617,21.4083953299949,22.605939984762585,23.696437121068424,24.09991370509181,23.71490816351306,23.021098929535633,23.319864615589985,22.426193529557462,20.909648534122443,20.88238817753129,20.239812080914213,19.891791143988673,20.027416616832685,20.85663488236419,21.931513436878262,23.041947322325726,24.628465963339174,26.30768862374928,27.739389235583154,28.217149520222094,27.586615110165994,25.92433336382978,22.907453957329082,22.98005817436538,23.93513986257601,23.83916535668845,22.84260815533515,21.407932769767246,22.60632941431313,23.6967890028479,24.099824314628822,23.71479899940387,23.02102438826262,23.319784919815753,22.42588714435153,20.90970247724935,20.882356657063525,20.23973481693873,19.8917820140105,20.027356915880183,20.85680821620933,21.931549128266024,23.042000975737018,24.6285477397137,26.30776901295389,27.739452804266328,28.21713991132289,27.5865873272288,25.924278881789995,22.907362048325183,22.980100627659255,23.93514903264149,23.83915665616607,22.842588735809546,21.407909176565965,22.606349277434102,23.6968069508191,24.09981975520703],\"type\":\"scatter\"},{\"line\":{\"color\":\"#FFA15A\"},\"mode\":\"lines\",\"name\":\"schema2: alpha 1.1\",\"x\":[1,11,21,31,41,51,61,71,81,91,101,111,121,131,141,151,161,171,181,191,201,211,221,231,241,251,261,271,281,291,301,311,321,331,341,351,361,371,381,391,401,411,421,431,441,451,461,471,481,491,501,511,521,531,541,551,561,571,581,591,601,611,621,631,641,651,661,671,681,691,701,711,721,731,741,751,761,771,781,791,801,811,821,831,841,851,861,871,881,891,901,911,921,931,941,951,961,971,981,991,1001],\"y\":[3.308996335634639,21.972134012121714,21.97748515863918,21.977485287310788,21.977485287294577,21.977485287294577,21.977485287294577,21.977485287294577,21.977485287294577,21.977485287294577,21.977485287294577,21.977485287294577,21.977485287294577,21.977485287294577,21.977485287294577,21.977485287294577,21.977485287294577,21.977485287294577,21.977485287294577,21.977485287294577,21.977485287294577,21.977485287294577,21.977485287294577,21.977485287294577,21.977485287294577,21.977485287294577,21.977485287294577,21.977485287294577,21.977485287294577,21.977485287294577,21.977485287294577,21.977485287294577,21.977485287294577,21.977485287294577,21.977485287294577,21.977485287294577,21.977485287294577,21.977485287294577,21.977485287294577,21.977485287294577,21.977485287294577,21.977485287294577,21.977485287294577,21.977485287294577,21.977485287294577,21.977485287294577,21.977485287294577,21.977485287294577,21.977485287294577,21.977485287294577,21.977485287294577,21.977485287294577,21.977485287294577,21.977485287294577,21.977485287294577,21.977485287294577,21.977485287294577,21.977485287294577,21.977485287294577,21.977485287294577,21.977485287294577,21.977485287294577,21.977485287294577,21.977485287294577,21.977485287294577,21.977485287294577,21.977485287294577,21.977485287294577,21.977485287294577,21.977485287294577,21.977485287294577,21.977485287294577,21.977485287294577,21.977485287294577,21.977485287294577,21.977485287294577,21.977485287294577,21.977485287294577,21.977485287294577,21.977485287294577,21.977485287294577,21.977485287294577,21.977485287294577,21.977485287294577,21.977485287294577,21.977485287294577,21.977485287294577,21.977485287294577,21.977485287294577,21.977485287294577,21.977485287294577,21.977485287294577,21.977485287294577,21.977485287294577,21.977485287294577,21.977485287294577,21.977485287294577,21.977485287294577,21.977485287294577,21.977485287294577,21.977485287294577],\"type\":\"scatter\"}],                        {\"title\":{\"text\":\"Value Function (0, 0) vs Iteration\"},\"xaxis\":{\"title\":{\"text\":\"Iteration\"},\"type\":\"log\"},\"yaxis\":{\"title\":{\"text\":\"Value Function (0, 0)\"}},\"template\":{\"data\":{\"histogram2dcontour\":[{\"type\":\"histogram2dcontour\",\"colorbar\":{\"outlinewidth\":0,\"ticks\":\"\"},\"colorscale\":[[0.0,\"#0d0887\"],[0.1111111111111111,\"#46039f\"],[0.2222222222222222,\"#7201a8\"],[0.3333333333333333,\"#9c179e\"],[0.4444444444444444,\"#bd3786\"],[0.5555555555555556,\"#d8576b\"],[0.6666666666666666,\"#ed7953\"],[0.7777777777777778,\"#fb9f3a\"],[0.8888888888888888,\"#fdca26\"],[1.0,\"#f0f921\"]]}],\"choropleth\":[{\"type\":\"choropleth\",\"colorbar\":{\"outlinewidth\":0,\"ticks\":\"\"}}],\"histogram2d\":[{\"type\":\"histogram2d\",\"colorbar\":{\"outlinewidth\":0,\"ticks\":\"\"},\"colorscale\":[[0.0,\"#0d0887\"],[0.1111111111111111,\"#46039f\"],[0.2222222222222222,\"#7201a8\"],[0.3333333333333333,\"#9c179e\"],[0.4444444444444444,\"#bd3786\"],[0.5555555555555556,\"#d8576b\"],[0.6666666666666666,\"#ed7953\"],[0.7777777777777778,\"#fb9f3a\"],[0.8888888888888888,\"#fdca26\"],[1.0,\"#f0f921\"]]}],\"heatmap\":[{\"type\":\"heatmap\",\"colorbar\":{\"outlinewidth\":0,\"ticks\":\"\"},\"colorscale\":[[0.0,\"#0d0887\"],[0.1111111111111111,\"#46039f\"],[0.2222222222222222,\"#7201a8\"],[0.3333333333333333,\"#9c179e\"],[0.4444444444444444,\"#bd3786\"],[0.5555555555555556,\"#d8576b\"],[0.6666666666666666,\"#ed7953\"],[0.7777777777777778,\"#fb9f3a\"],[0.8888888888888888,\"#fdca26\"],[1.0,\"#f0f921\"]]}],\"heatmapgl\":[{\"type\":\"heatmapgl\",\"colorbar\":{\"outlinewidth\":0,\"ticks\":\"\"},\"colorscale\":[[0.0,\"#0d0887\"],[0.1111111111111111,\"#46039f\"],[0.2222222222222222,\"#7201a8\"],[0.3333333333333333,\"#9c179e\"],[0.4444444444444444,\"#bd3786\"],[0.5555555555555556,\"#d8576b\"],[0.6666666666666666,\"#ed7953\"],[0.7777777777777778,\"#fb9f3a\"],[0.8888888888888888,\"#fdca26\"],[1.0,\"#f0f921\"]]}],\"contourcarpet\":[{\"type\":\"contourcarpet\",\"colorbar\":{\"outlinewidth\":0,\"ticks\":\"\"}}],\"contour\":[{\"type\":\"contour\",\"colorbar\":{\"outlinewidth\":0,\"ticks\":\"\"},\"colorscale\":[[0.0,\"#0d0887\"],[0.1111111111111111,\"#46039f\"],[0.2222222222222222,\"#7201a8\"],[0.3333333333333333,\"#9c179e\"],[0.4444444444444444,\"#bd3786\"],[0.5555555555555556,\"#d8576b\"],[0.6666666666666666,\"#ed7953\"],[0.7777777777777778,\"#fb9f3a\"],[0.8888888888888888,\"#fdca26\"],[1.0,\"#f0f921\"]]}],\"surface\":[{\"type\":\"surface\",\"colorbar\":{\"outlinewidth\":0,\"ticks\":\"\"},\"colorscale\":[[0.0,\"#0d0887\"],[0.1111111111111111,\"#46039f\"],[0.2222222222222222,\"#7201a8\"],[0.3333333333333333,\"#9c179e\"],[0.4444444444444444,\"#bd3786\"],[0.5555555555555556,\"#d8576b\"],[0.6666666666666666,\"#ed7953\"],[0.7777777777777778,\"#fb9f3a\"],[0.8888888888888888,\"#fdca26\"],[1.0,\"#f0f921\"]]}],\"mesh3d\":[{\"type\":\"mesh3d\",\"colorbar\":{\"outlinewidth\":0,\"ticks\":\"\"}}],\"scatter\":[{\"fillpattern\":{\"fillmode\":\"overlay\",\"size\":10,\"solidity\":0.2},\"type\":\"scatter\"}],\"parcoords\":[{\"type\":\"parcoords\",\"line\":{\"colorbar\":{\"outlinewidth\":0,\"ticks\":\"\"}}}],\"scatterpolargl\":[{\"type\":\"scatterpolargl\",\"marker\":{\"colorbar\":{\"outlinewidth\":0,\"ticks\":\"\"}}}],\"bar\":[{\"error_x\":{\"color\":\"#2a3f5f\"},\"error_y\":{\"color\":\"#2a3f5f\"},\"marker\":{\"line\":{\"color\":\"#E5ECF6\",\"width\":0.5},\"pattern\":{\"fillmode\":\"overlay\",\"size\":10,\"solidity\":0.2}},\"type\":\"bar\"}],\"scattergeo\":[{\"type\":\"scattergeo\",\"marker\":{\"colorbar\":{\"outlinewidth\":0,\"ticks\":\"\"}}}],\"scatterpolar\":[{\"type\":\"scatterpolar\",\"marker\":{\"colorbar\":{\"outlinewidth\":0,\"ticks\":\"\"}}}],\"histogram\":[{\"marker\":{\"pattern\":{\"fillmode\":\"overlay\",\"size\":10,\"solidity\":0.2}},\"type\":\"histogram\"}],\"scattergl\":[{\"type\":\"scattergl\",\"marker\":{\"colorbar\":{\"outlinewidth\":0,\"ticks\":\"\"}}}],\"scatter3d\":[{\"type\":\"scatter3d\",\"line\":{\"colorbar\":{\"outlinewidth\":0,\"ticks\":\"\"}},\"marker\":{\"colorbar\":{\"outlinewidth\":0,\"ticks\":\"\"}}}],\"scattermapbox\":[{\"type\":\"scattermapbox\",\"marker\":{\"colorbar\":{\"outlinewidth\":0,\"ticks\":\"\"}}}],\"scatterternary\":[{\"type\":\"scatterternary\",\"marker\":{\"colorbar\":{\"outlinewidth\":0,\"ticks\":\"\"}}}],\"scattercarpet\":[{\"type\":\"scattercarpet\",\"marker\":{\"colorbar\":{\"outlinewidth\":0,\"ticks\":\"\"}}}],\"carpet\":[{\"aaxis\":{\"endlinecolor\":\"#2a3f5f\",\"gridcolor\":\"white\",\"linecolor\":\"white\",\"minorgridcolor\":\"white\",\"startlinecolor\":\"#2a3f5f\"},\"baxis\":{\"endlinecolor\":\"#2a3f5f\",\"gridcolor\":\"white\",\"linecolor\":\"white\",\"minorgridcolor\":\"white\",\"startlinecolor\":\"#2a3f5f\"},\"type\":\"carpet\"}],\"table\":[{\"cells\":{\"fill\":{\"color\":\"#EBF0F8\"},\"line\":{\"color\":\"white\"}},\"header\":{\"fill\":{\"color\":\"#C8D4E3\"},\"line\":{\"color\":\"white\"}},\"type\":\"table\"}],\"barpolar\":[{\"marker\":{\"line\":{\"color\":\"#E5ECF6\",\"width\":0.5},\"pattern\":{\"fillmode\":\"overlay\",\"size\":10,\"solidity\":0.2}},\"type\":\"barpolar\"}],\"pie\":[{\"automargin\":true,\"type\":\"pie\"}]},\"layout\":{\"autotypenumbers\":\"strict\",\"colorway\":[\"#636efa\",\"#EF553B\",\"#00cc96\",\"#ab63fa\",\"#FFA15A\",\"#19d3f3\",\"#FF6692\",\"#B6E880\",\"#FF97FF\",\"#FECB52\"],\"font\":{\"color\":\"#2a3f5f\"},\"hovermode\":\"closest\",\"hoverlabel\":{\"align\":\"left\"},\"paper_bgcolor\":\"white\",\"plot_bgcolor\":\"#E5ECF6\",\"polar\":{\"bgcolor\":\"#E5ECF6\",\"angularaxis\":{\"gridcolor\":\"white\",\"linecolor\":\"white\",\"ticks\":\"\"},\"radialaxis\":{\"gridcolor\":\"white\",\"linecolor\":\"white\",\"ticks\":\"\"}},\"ternary\":{\"bgcolor\":\"#E5ECF6\",\"aaxis\":{\"gridcolor\":\"white\",\"linecolor\":\"white\",\"ticks\":\"\"},\"baxis\":{\"gridcolor\":\"white\",\"linecolor\":\"white\",\"ticks\":\"\"},\"caxis\":{\"gridcolor\":\"white\",\"linecolor\":\"white\",\"ticks\":\"\"}},\"coloraxis\":{\"colorbar\":{\"outlinewidth\":0,\"ticks\":\"\"}},\"colorscale\":{\"sequential\":[[0.0,\"#0d0887\"],[0.1111111111111111,\"#46039f\"],[0.2222222222222222,\"#7201a8\"],[0.3333333333333333,\"#9c179e\"],[0.4444444444444444,\"#bd3786\"],[0.5555555555555556,\"#d8576b\"],[0.6666666666666666,\"#ed7953\"],[0.7777777777777778,\"#fb9f3a\"],[0.8888888888888888,\"#fdca26\"],[1.0,\"#f0f921\"]],\"sequentialminus\":[[0.0,\"#0d0887\"],[0.1111111111111111,\"#46039f\"],[0.2222222222222222,\"#7201a8\"],[0.3333333333333333,\"#9c179e\"],[0.4444444444444444,\"#bd3786\"],[0.5555555555555556,\"#d8576b\"],[0.6666666666666666,\"#ed7953\"],[0.7777777777777778,\"#fb9f3a\"],[0.8888888888888888,\"#fdca26\"],[1.0,\"#f0f921\"]],\"diverging\":[[0,\"#8e0152\"],[0.1,\"#c51b7d\"],[0.2,\"#de77ae\"],[0.3,\"#f1b6da\"],[0.4,\"#fde0ef\"],[0.5,\"#f7f7f7\"],[0.6,\"#e6f5d0\"],[0.7,\"#b8e186\"],[0.8,\"#7fbc41\"],[0.9,\"#4d9221\"],[1,\"#276419\"]]},\"xaxis\":{\"gridcolor\":\"white\",\"linecolor\":\"white\",\"ticks\":\"\",\"title\":{\"standoff\":15},\"zerolinecolor\":\"white\",\"automargin\":true,\"zerolinewidth\":2},\"yaxis\":{\"gridcolor\":\"white\",\"linecolor\":\"white\",\"ticks\":\"\",\"title\":{\"standoff\":15},\"zerolinecolor\":\"white\",\"automargin\":true,\"zerolinewidth\":2},\"scene\":{\"xaxis\":{\"backgroundcolor\":\"#E5ECF6\",\"gridcolor\":\"white\",\"linecolor\":\"white\",\"showbackground\":true,\"ticks\":\"\",\"zerolinecolor\":\"white\",\"gridwidth\":2},\"yaxis\":{\"backgroundcolor\":\"#E5ECF6\",\"gridcolor\":\"white\",\"linecolor\":\"white\",\"showbackground\":true,\"ticks\":\"\",\"zerolinecolor\":\"white\",\"gridwidth\":2},\"zaxis\":{\"backgroundcolor\":\"#E5ECF6\",\"gridcolor\":\"white\",\"linecolor\":\"white\",\"showbackground\":true,\"ticks\":\"\",\"zerolinecolor\":\"white\",\"gridwidth\":2}},\"shapedefaults\":{\"line\":{\"color\":\"#2a3f5f\"}},\"annotationdefaults\":{\"arrowcolor\":\"#2a3f5f\",\"arrowhead\":0,\"arrowwidth\":1},\"geo\":{\"bgcolor\":\"white\",\"landcolor\":\"#E5ECF6\",\"subunitcolor\":\"white\",\"showland\":true,\"showlakes\":true,\"lakecolor\":\"white\"},\"title\":{\"x\":0.05},\"mapbox\":{\"style\":\"light\"}}}},                        {\"responsive\": true}                    ).then(function(){\n",
       "                            \n",
       "var gd = document.getElementById('28a85e89-e01c-4dfe-a13b-a9357484000b');\n",
       "var x = new MutationObserver(function (mutations, observer) {{\n",
       "        var display = window.getComputedStyle(gd).display;\n",
       "        if (!display || display === 'none') {{\n",
       "            console.log([gd, 'removed!']);\n",
       "            Plotly.purge(gd);\n",
       "            observer.disconnect();\n",
       "        }}\n",
       "}});\n",
       "\n",
       "// Listen for the removal of the full notebook cells\n",
       "var notebookContainer = gd.closest('#notebook-container');\n",
       "if (notebookContainer) {{\n",
       "    x.observe(notebookContainer, {childList: true});\n",
       "}}\n",
       "\n",
       "// Listen for the clearing of the current output cell\n",
       "var outputEl = gd.closest('.output');\n",
       "if (outputEl) {{\n",
       "    x.observe(outputEl, {childList: true});\n",
       "}}\n",
       "\n",
       "                        })                };                });            </script>        </div>"
      ]
     },
     "metadata": {},
     "output_type": "display_data"
    }
   ],
   "source": [
    "colors = px.colors.qualitative.Plotly\n",
    "\n",
    "# Create a trace for each iteration\n",
    "traces = []\n",
    "for i, (v1, v2) in enumerate(zip(v_0_0_schema1, v_0_0_schema2)):\n",
    "    trace1 = go.Scatter(\n",
    "        x=arr_si,\n",
    "        y=v1,\n",
    "        mode='lines',\n",
    "        line=dict(color=colors[i], dash='dash'),\n",
    "        name=f'opt_schema1: alpha {ls_alp[i]}'\n",
    "    )\n",
    "    trace2 = go.Scatter(\n",
    "        x=arr_si,\n",
    "        y=v2,\n",
    "        mode='lines',\n",
    "        line=dict(color=colors[i]),\n",
    "        name=f'opt_schema2: alpha {ls_alp[i]}'\n",
    "    )\n",
    "    traces.extend([trace1, trace2])\n",
    "\n",
    "# Create the layout\n",
    "layout = go.Layout(\n",
    "    title='Value Function (0, 0) vs Iteration',\n",
    "    xaxis=dict(title='Iteration', type='log'),\n",
    "    yaxis=dict(title='Value Function (0, 0)')\n",
    ")\n",
    "\n",
    "# Create the figure\n",
    "fig = go.Figure(data=traces, layout=layout)\n",
    "\n",
    "# Show the figure\n",
    "fig.show()\n"
   ]
  },
  {
   "cell_type": "code",
   "execution_count": null,
   "metadata": {},
   "outputs": [],
   "source": []
  },
  {
   "cell_type": "markdown",
   "metadata": {},
   "source": [
    "# End"
   ]
  },
  {
   "cell_type": "code",
   "execution_count": null,
   "metadata": {},
   "outputs": [],
   "source": []
  }
 ],
 "metadata": {
  "kernelspec": {
   "display_name": "p311",
   "language": "python",
   "name": "p311"
  },
  "language_info": {
   "codemirror_mode": {
    "name": "ipython",
    "version": 3
   },
   "file_extension": ".py",
   "mimetype": "text/x-python",
   "name": "python",
   "nbconvert_exporter": "python",
   "pygments_lexer": "ipython3",
   "version": "3.11.8"
  }
 },
 "nbformat": 4,
 "nbformat_minor": 2
}
